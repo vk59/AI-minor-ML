{
  "nbformat": 4,
  "nbformat_minor": 0,
  "metadata": {
    "colab": {
      "provenance": [],
      "authorship_tag": "ABX9TyNn4ADX2CyTIlco+m8RIbIp",
      "include_colab_link": true
    },
    "kernelspec": {
      "name": "python3",
      "display_name": "Python 3"
    },
    "language_info": {
      "name": "python"
    }
  },
  "cells": [
    {
      "cell_type": "markdown",
      "metadata": {
        "id": "view-in-github",
        "colab_type": "text"
      },
      "source": [
        "<a href=\"https://colab.research.google.com/github/vk59/AI-minor-ML/blob/hw1_hw2_hw3/MLM.ipynb\" target=\"_parent\"><img src=\"https://colab.research.google.com/assets/colab-badge.svg\" alt=\"Open In Colab\"/></a>"
      ]
    },
    {
      "cell_type": "markdown",
      "source": [
        "# ДЗ 1"
      ],
      "metadata": {
        "id": "wkfGK7c1lwRc"
      }
    },
    {
      "cell_type": "code",
      "execution_count": 131,
      "metadata": {
        "id": "wd7MywXKkewA"
      },
      "outputs": [],
      "source": [
        "import pandas as pd\n",
        "import numpy as np"
      ]
    },
    {
      "cell_type": "markdown",
      "source": [
        "## Бизнес-постановка задачи\n",
        "Компания работает с большим числом сотрудников и большую ставку делает именно на качество их работы. Однако с каждым случаются неприятности, возникает психологическая усталость, особенно в пост-ковидное время. В компании есть штатные психологи, но к ним всегда огромная очередь, запись на несколько месяцев вперед. Компания решила нанять еще одну группу резервных психологов для выгорающих людей. Нужно понять, какие из сотрудников более всего выгорают в настоящее время на основе данных за предыдущие годы."
      ],
      "metadata": {
        "id": "iuiGzjurlekk"
      }
    },
    {
      "cell_type": "markdown",
      "source": [
        "## Постановка задачи ML\n",
        "Предсказать, какие сейчас сотрудники скорее всего выгорели на основании данных из внутренних опросов компании и сбора данных от руководителей. На основании этого предпринимать точечные действия на местах"
      ],
      "metadata": {
        "id": "P3-IwhN8oiX2"
      }
    },
    {
      "cell_type": "markdown",
      "source": [
        "## Метрики\n"
      ],
      "metadata": {
        "id": "fHMePNM9na93"
      }
    },
    {
      "cell_type": "markdown",
      "source": [
        "Для оценки качества модели была использована метрика ROC AUC, которая является независимой от конкретной модели и баланса классов в выборке. Эта метрика обеспечивает простой способ сравнения различных моделей: чем выше значение ROC AUC, тем лучше качество модели."
      ],
      "metadata": {
        "id": "T4_vf9IgAm3u"
      }
    },
    {
      "cell_type": "markdown",
      "source": [
        "## EDA"
      ],
      "metadata": {
        "id": "_jADez8KndE6"
      }
    },
    {
      "cell_type": "code",
      "source": [
        "burn_out = pd.read_csv(\"train.csv\")\n",
        "display(burn_out.head())\n",
        "burn_out.shape"
      ],
      "metadata": {
        "colab": {
          "base_uri": "https://localhost:8080/",
          "height": 345
        },
        "id": "dg0X9qr7nfBZ",
        "outputId": "ae22c937-72c0-4551-b102-eabea9891efd"
      },
      "execution_count": 132,
      "outputs": [
        {
          "output_type": "display_data",
          "data": {
            "text/plain": [
              "                Employee ID Date of Joining  Gender Company Type  \\\n",
              "0  fffe32003000360033003200      2008-09-30  Female      Service   \n",
              "1      fffe3700360033003500      2008-11-30    Male      Service   \n",
              "2  fffe31003300320037003900      2008-03-10  Female      Product   \n",
              "3  fffe32003400380032003900      2008-11-03    Male      Service   \n",
              "4  fffe31003900340031003600      2008-07-24  Female      Service   \n",
              "\n",
              "  WFH Setup Available  Designation  Resource Allocation  Mental Fatigue Score  \\\n",
              "0                  No          2.0                  3.0                   3.8   \n",
              "1                 Yes          1.0                  2.0                   5.0   \n",
              "2                 Yes          2.0                  NaN                   5.8   \n",
              "3                 Yes          1.0                  1.0                   2.6   \n",
              "4                  No          3.0                  7.0                   6.9   \n",
              "\n",
              "   Burn Rate  \n",
              "0       0.16  \n",
              "1       0.36  \n",
              "2       0.49  \n",
              "3       0.20  \n",
              "4       0.52  "
            ],
            "text/html": [
              "\n",
              "  <div id=\"df-eb71c202-9bf6-41b4-99bd-e24b36d30ce7\" class=\"colab-df-container\">\n",
              "    <div>\n",
              "<style scoped>\n",
              "    .dataframe tbody tr th:only-of-type {\n",
              "        vertical-align: middle;\n",
              "    }\n",
              "\n",
              "    .dataframe tbody tr th {\n",
              "        vertical-align: top;\n",
              "    }\n",
              "\n",
              "    .dataframe thead th {\n",
              "        text-align: right;\n",
              "    }\n",
              "</style>\n",
              "<table border=\"1\" class=\"dataframe\">\n",
              "  <thead>\n",
              "    <tr style=\"text-align: right;\">\n",
              "      <th></th>\n",
              "      <th>Employee ID</th>\n",
              "      <th>Date of Joining</th>\n",
              "      <th>Gender</th>\n",
              "      <th>Company Type</th>\n",
              "      <th>WFH Setup Available</th>\n",
              "      <th>Designation</th>\n",
              "      <th>Resource Allocation</th>\n",
              "      <th>Mental Fatigue Score</th>\n",
              "      <th>Burn Rate</th>\n",
              "    </tr>\n",
              "  </thead>\n",
              "  <tbody>\n",
              "    <tr>\n",
              "      <th>0</th>\n",
              "      <td>fffe32003000360033003200</td>\n",
              "      <td>2008-09-30</td>\n",
              "      <td>Female</td>\n",
              "      <td>Service</td>\n",
              "      <td>No</td>\n",
              "      <td>2.0</td>\n",
              "      <td>3.0</td>\n",
              "      <td>3.8</td>\n",
              "      <td>0.16</td>\n",
              "    </tr>\n",
              "    <tr>\n",
              "      <th>1</th>\n",
              "      <td>fffe3700360033003500</td>\n",
              "      <td>2008-11-30</td>\n",
              "      <td>Male</td>\n",
              "      <td>Service</td>\n",
              "      <td>Yes</td>\n",
              "      <td>1.0</td>\n",
              "      <td>2.0</td>\n",
              "      <td>5.0</td>\n",
              "      <td>0.36</td>\n",
              "    </tr>\n",
              "    <tr>\n",
              "      <th>2</th>\n",
              "      <td>fffe31003300320037003900</td>\n",
              "      <td>2008-03-10</td>\n",
              "      <td>Female</td>\n",
              "      <td>Product</td>\n",
              "      <td>Yes</td>\n",
              "      <td>2.0</td>\n",
              "      <td>NaN</td>\n",
              "      <td>5.8</td>\n",
              "      <td>0.49</td>\n",
              "    </tr>\n",
              "    <tr>\n",
              "      <th>3</th>\n",
              "      <td>fffe32003400380032003900</td>\n",
              "      <td>2008-11-03</td>\n",
              "      <td>Male</td>\n",
              "      <td>Service</td>\n",
              "      <td>Yes</td>\n",
              "      <td>1.0</td>\n",
              "      <td>1.0</td>\n",
              "      <td>2.6</td>\n",
              "      <td>0.20</td>\n",
              "    </tr>\n",
              "    <tr>\n",
              "      <th>4</th>\n",
              "      <td>fffe31003900340031003600</td>\n",
              "      <td>2008-07-24</td>\n",
              "      <td>Female</td>\n",
              "      <td>Service</td>\n",
              "      <td>No</td>\n",
              "      <td>3.0</td>\n",
              "      <td>7.0</td>\n",
              "      <td>6.9</td>\n",
              "      <td>0.52</td>\n",
              "    </tr>\n",
              "  </tbody>\n",
              "</table>\n",
              "</div>\n",
              "    <div class=\"colab-df-buttons\">\n",
              "\n",
              "  <div class=\"colab-df-container\">\n",
              "    <button class=\"colab-df-convert\" onclick=\"convertToInteractive('df-eb71c202-9bf6-41b4-99bd-e24b36d30ce7')\"\n",
              "            title=\"Convert this dataframe to an interactive table.\"\n",
              "            style=\"display:none;\">\n",
              "\n",
              "  <svg xmlns=\"http://www.w3.org/2000/svg\" height=\"24px\" viewBox=\"0 -960 960 960\">\n",
              "    <path d=\"M120-120v-720h720v720H120Zm60-500h600v-160H180v160Zm220 220h160v-160H400v160Zm0 220h160v-160H400v160ZM180-400h160v-160H180v160Zm440 0h160v-160H620v160ZM180-180h160v-160H180v160Zm440 0h160v-160H620v160Z\"/>\n",
              "  </svg>\n",
              "    </button>\n",
              "\n",
              "  <style>\n",
              "    .colab-df-container {\n",
              "      display:flex;\n",
              "      gap: 12px;\n",
              "    }\n",
              "\n",
              "    .colab-df-convert {\n",
              "      background-color: #E8F0FE;\n",
              "      border: none;\n",
              "      border-radius: 50%;\n",
              "      cursor: pointer;\n",
              "      display: none;\n",
              "      fill: #1967D2;\n",
              "      height: 32px;\n",
              "      padding: 0 0 0 0;\n",
              "      width: 32px;\n",
              "    }\n",
              "\n",
              "    .colab-df-convert:hover {\n",
              "      background-color: #E2EBFA;\n",
              "      box-shadow: 0px 1px 2px rgba(60, 64, 67, 0.3), 0px 1px 3px 1px rgba(60, 64, 67, 0.15);\n",
              "      fill: #174EA6;\n",
              "    }\n",
              "\n",
              "    .colab-df-buttons div {\n",
              "      margin-bottom: 4px;\n",
              "    }\n",
              "\n",
              "    [theme=dark] .colab-df-convert {\n",
              "      background-color: #3B4455;\n",
              "      fill: #D2E3FC;\n",
              "    }\n",
              "\n",
              "    [theme=dark] .colab-df-convert:hover {\n",
              "      background-color: #434B5C;\n",
              "      box-shadow: 0px 1px 3px 1px rgba(0, 0, 0, 0.15);\n",
              "      filter: drop-shadow(0px 1px 2px rgba(0, 0, 0, 0.3));\n",
              "      fill: #FFFFFF;\n",
              "    }\n",
              "  </style>\n",
              "\n",
              "    <script>\n",
              "      const buttonEl =\n",
              "        document.querySelector('#df-eb71c202-9bf6-41b4-99bd-e24b36d30ce7 button.colab-df-convert');\n",
              "      buttonEl.style.display =\n",
              "        google.colab.kernel.accessAllowed ? 'block' : 'none';\n",
              "\n",
              "      async function convertToInteractive(key) {\n",
              "        const element = document.querySelector('#df-eb71c202-9bf6-41b4-99bd-e24b36d30ce7');\n",
              "        const dataTable =\n",
              "          await google.colab.kernel.invokeFunction('convertToInteractive',\n",
              "                                                    [key], {});\n",
              "        if (!dataTable) return;\n",
              "\n",
              "        const docLinkHtml = 'Like what you see? Visit the ' +\n",
              "          '<a target=\"_blank\" href=https://colab.research.google.com/notebooks/data_table.ipynb>data table notebook</a>'\n",
              "          + ' to learn more about interactive tables.';\n",
              "        element.innerHTML = '';\n",
              "        dataTable['output_type'] = 'display_data';\n",
              "        await google.colab.output.renderOutput(dataTable, element);\n",
              "        const docLink = document.createElement('div');\n",
              "        docLink.innerHTML = docLinkHtml;\n",
              "        element.appendChild(docLink);\n",
              "      }\n",
              "    </script>\n",
              "  </div>\n",
              "\n",
              "\n",
              "<div id=\"df-c1973d1a-9785-412d-a8dd-29f160007bdd\">\n",
              "  <button class=\"colab-df-quickchart\" onclick=\"quickchart('df-c1973d1a-9785-412d-a8dd-29f160007bdd')\"\n",
              "            title=\"Suggest charts\"\n",
              "            style=\"display:none;\">\n",
              "\n",
              "<svg xmlns=\"http://www.w3.org/2000/svg\" height=\"24px\"viewBox=\"0 0 24 24\"\n",
              "     width=\"24px\">\n",
              "    <g>\n",
              "        <path d=\"M19 3H5c-1.1 0-2 .9-2 2v14c0 1.1.9 2 2 2h14c1.1 0 2-.9 2-2V5c0-1.1-.9-2-2-2zM9 17H7v-7h2v7zm4 0h-2V7h2v10zm4 0h-2v-4h2v4z\"/>\n",
              "    </g>\n",
              "</svg>\n",
              "  </button>\n",
              "\n",
              "<style>\n",
              "  .colab-df-quickchart {\n",
              "      --bg-color: #E8F0FE;\n",
              "      --fill-color: #1967D2;\n",
              "      --hover-bg-color: #E2EBFA;\n",
              "      --hover-fill-color: #174EA6;\n",
              "      --disabled-fill-color: #AAA;\n",
              "      --disabled-bg-color: #DDD;\n",
              "  }\n",
              "\n",
              "  [theme=dark] .colab-df-quickchart {\n",
              "      --bg-color: #3B4455;\n",
              "      --fill-color: #D2E3FC;\n",
              "      --hover-bg-color: #434B5C;\n",
              "      --hover-fill-color: #FFFFFF;\n",
              "      --disabled-bg-color: #3B4455;\n",
              "      --disabled-fill-color: #666;\n",
              "  }\n",
              "\n",
              "  .colab-df-quickchart {\n",
              "    background-color: var(--bg-color);\n",
              "    border: none;\n",
              "    border-radius: 50%;\n",
              "    cursor: pointer;\n",
              "    display: none;\n",
              "    fill: var(--fill-color);\n",
              "    height: 32px;\n",
              "    padding: 0;\n",
              "    width: 32px;\n",
              "  }\n",
              "\n",
              "  .colab-df-quickchart:hover {\n",
              "    background-color: var(--hover-bg-color);\n",
              "    box-shadow: 0 1px 2px rgba(60, 64, 67, 0.3), 0 1px 3px 1px rgba(60, 64, 67, 0.15);\n",
              "    fill: var(--button-hover-fill-color);\n",
              "  }\n",
              "\n",
              "  .colab-df-quickchart-complete:disabled,\n",
              "  .colab-df-quickchart-complete:disabled:hover {\n",
              "    background-color: var(--disabled-bg-color);\n",
              "    fill: var(--disabled-fill-color);\n",
              "    box-shadow: none;\n",
              "  }\n",
              "\n",
              "  .colab-df-spinner {\n",
              "    border: 2px solid var(--fill-color);\n",
              "    border-color: transparent;\n",
              "    border-bottom-color: var(--fill-color);\n",
              "    animation:\n",
              "      spin 1s steps(1) infinite;\n",
              "  }\n",
              "\n",
              "  @keyframes spin {\n",
              "    0% {\n",
              "      border-color: transparent;\n",
              "      border-bottom-color: var(--fill-color);\n",
              "      border-left-color: var(--fill-color);\n",
              "    }\n",
              "    20% {\n",
              "      border-color: transparent;\n",
              "      border-left-color: var(--fill-color);\n",
              "      border-top-color: var(--fill-color);\n",
              "    }\n",
              "    30% {\n",
              "      border-color: transparent;\n",
              "      border-left-color: var(--fill-color);\n",
              "      border-top-color: var(--fill-color);\n",
              "      border-right-color: var(--fill-color);\n",
              "    }\n",
              "    40% {\n",
              "      border-color: transparent;\n",
              "      border-right-color: var(--fill-color);\n",
              "      border-top-color: var(--fill-color);\n",
              "    }\n",
              "    60% {\n",
              "      border-color: transparent;\n",
              "      border-right-color: var(--fill-color);\n",
              "    }\n",
              "    80% {\n",
              "      border-color: transparent;\n",
              "      border-right-color: var(--fill-color);\n",
              "      border-bottom-color: var(--fill-color);\n",
              "    }\n",
              "    90% {\n",
              "      border-color: transparent;\n",
              "      border-bottom-color: var(--fill-color);\n",
              "    }\n",
              "  }\n",
              "</style>\n",
              "\n",
              "  <script>\n",
              "    async function quickchart(key) {\n",
              "      const quickchartButtonEl =\n",
              "        document.querySelector('#' + key + ' button');\n",
              "      quickchartButtonEl.disabled = true;  // To prevent multiple clicks.\n",
              "      quickchartButtonEl.classList.add('colab-df-spinner');\n",
              "      try {\n",
              "        const charts = await google.colab.kernel.invokeFunction(\n",
              "            'suggestCharts', [key], {});\n",
              "      } catch (error) {\n",
              "        console.error('Error during call to suggestCharts:', error);\n",
              "      }\n",
              "      quickchartButtonEl.classList.remove('colab-df-spinner');\n",
              "      quickchartButtonEl.classList.add('colab-df-quickchart-complete');\n",
              "    }\n",
              "    (() => {\n",
              "      let quickchartButtonEl =\n",
              "        document.querySelector('#df-c1973d1a-9785-412d-a8dd-29f160007bdd button');\n",
              "      quickchartButtonEl.style.display =\n",
              "        google.colab.kernel.accessAllowed ? 'block' : 'none';\n",
              "    })();\n",
              "  </script>\n",
              "</div>\n",
              "    </div>\n",
              "  </div>\n"
            ],
            "application/vnd.google.colaboratory.intrinsic+json": {
              "type": "dataframe",
              "summary": "{\n  \"name\": \"burn_out\",\n  \"rows\": 5,\n  \"fields\": [\n    {\n      \"column\": \"Employee ID\",\n      \"properties\": {\n        \"dtype\": \"string\",\n        \"num_unique_values\": 5,\n        \"samples\": [\n          \"fffe3700360033003500\",\n          \"fffe31003900340031003600\",\n          \"fffe31003300320037003900\"\n        ],\n        \"semantic_type\": \"\",\n        \"description\": \"\"\n      }\n    },\n    {\n      \"column\": \"Date of Joining\",\n      \"properties\": {\n        \"dtype\": \"object\",\n        \"num_unique_values\": 5,\n        \"samples\": [\n          \"2008-11-30\",\n          \"2008-07-24\",\n          \"2008-03-10\"\n        ],\n        \"semantic_type\": \"\",\n        \"description\": \"\"\n      }\n    },\n    {\n      \"column\": \"Gender\",\n      \"properties\": {\n        \"dtype\": \"category\",\n        \"num_unique_values\": 2,\n        \"samples\": [\n          \"Male\",\n          \"Female\"\n        ],\n        \"semantic_type\": \"\",\n        \"description\": \"\"\n      }\n    },\n    {\n      \"column\": \"Company Type\",\n      \"properties\": {\n        \"dtype\": \"category\",\n        \"num_unique_values\": 2,\n        \"samples\": [\n          \"Product\",\n          \"Service\"\n        ],\n        \"semantic_type\": \"\",\n        \"description\": \"\"\n      }\n    },\n    {\n      \"column\": \"WFH Setup Available\",\n      \"properties\": {\n        \"dtype\": \"category\",\n        \"num_unique_values\": 2,\n        \"samples\": [\n          \"Yes\",\n          \"No\"\n        ],\n        \"semantic_type\": \"\",\n        \"description\": \"\"\n      }\n    },\n    {\n      \"column\": \"Designation\",\n      \"properties\": {\n        \"dtype\": \"number\",\n        \"std\": 0.8366600265340756,\n        \"min\": 1.0,\n        \"max\": 3.0,\n        \"num_unique_values\": 3,\n        \"samples\": [\n          2.0,\n          1.0\n        ],\n        \"semantic_type\": \"\",\n        \"description\": \"\"\n      }\n    },\n    {\n      \"column\": \"Resource Allocation\",\n      \"properties\": {\n        \"dtype\": \"number\",\n        \"std\": 2.6299556396765835,\n        \"min\": 1.0,\n        \"max\": 7.0,\n        \"num_unique_values\": 4,\n        \"samples\": [\n          2.0,\n          7.0\n        ],\n        \"semantic_type\": \"\",\n        \"description\": \"\"\n      }\n    },\n    {\n      \"column\": \"Mental Fatigue Score\",\n      \"properties\": {\n        \"dtype\": \"number\",\n        \"std\": 1.6798809481626964,\n        \"min\": 2.6,\n        \"max\": 6.9,\n        \"num_unique_values\": 5,\n        \"samples\": [\n          5.0,\n          6.9\n        ],\n        \"semantic_type\": \"\",\n        \"description\": \"\"\n      }\n    },\n    {\n      \"column\": \"Burn Rate\",\n      \"properties\": {\n        \"dtype\": \"number\",\n        \"std\": 0.16364595931461307,\n        \"min\": 0.16,\n        \"max\": 0.52,\n        \"num_unique_values\": 5,\n        \"samples\": [\n          0.36,\n          0.52\n        ],\n        \"semantic_type\": \"\",\n        \"description\": \"\"\n      }\n    }\n  ]\n}"
            }
          },
          "metadata": {}
        },
        {
          "output_type": "execute_result",
          "data": {
            "text/plain": [
              "(22750, 9)"
            ]
          },
          "metadata": {},
          "execution_count": 132
        }
      ]
    },
    {
      "cell_type": "markdown",
      "source": [
        "Датасет содержит около 23к строк и 9 столбцов:\n",
        "- `Employee ID`: Уникальный идентификатор сотрудника (пример: fffe390032003000)\n",
        "- `Date of Joining`: Дата трудоустройства (пример: 2008-12-30)\n",
        "- `Gender`: Пол сотрудника (Male/Female)\n",
        "- `Company Type`: Тип компании (Service/Product)\n",
        "- `WFH Setup Available`: Есть ли возможность работать из дома (Yes/No)\n",
        "- `Designation`: Статус сотрудника в диапазоне от 0 до 5.\n",
        "- `Resource Allocation`: Количество рабочих часов от 1 до 10.\n",
        "- `Mental Fatigue Score`: Уровень психологической усталости от 0 до 10.\n",
        "- `Burn Rate`: Степень выгорания сотрудника от 0 до 1."
      ],
      "metadata": {
        "id": "BIkf2ChnoazY"
      }
    },
    {
      "cell_type": "markdown",
      "source": [
        "## Анализ колонок\n",
        "\n",
        "Целевой переменной является `Burn Rate`. Это вещественное число, его нужно перевести в бинарный признак"
      ],
      "metadata": {
        "id": "Z4MGnOgkp0D5"
      }
    },
    {
      "cell_type": "markdown",
      "source": [
        "Проверим, есть в ли данных какие-либо пропуски."
      ],
      "metadata": {
        "id": "8kAYYS-IuL-A"
      }
    },
    {
      "cell_type": "code",
      "source": [
        "burn_out.isnull().any()"
      ],
      "metadata": {
        "colab": {
          "base_uri": "https://localhost:8080/"
        },
        "id": "DQj7LMSBvsW8",
        "outputId": "3c1cd0a6-5dcf-4282-bff9-329d1a0c1c0a"
      },
      "execution_count": 133,
      "outputs": [
        {
          "output_type": "execute_result",
          "data": {
            "text/plain": [
              "Employee ID             False\n",
              "Date of Joining         False\n",
              "Gender                  False\n",
              "Company Type            False\n",
              "WFH Setup Available     False\n",
              "Designation             False\n",
              "Resource Allocation      True\n",
              "Mental Fatigue Score     True\n",
              "Burn Rate                True\n",
              "dtype: bool"
            ]
          },
          "metadata": {},
          "execution_count": 133
        }
      ]
    },
    {
      "cell_type": "markdown",
      "source": [
        "Такие значения есть. Параметров для обучения достаточно мало, поэтому если мы будем дропать колонки, то потеряем значительную часть бесценных данных. В рамках обучения дропнем строки, в которых отсутствуют `Burn Rate`, а в `Resource Allocation` и `Mental Fatigue Score` подставим средние значения из этих колонок"
      ],
      "metadata": {
        "id": "O93yGQFCv53y"
      }
    },
    {
      "cell_type": "code",
      "source": [
        "burn_out = burn_out[burn_out['Burn Rate'].notna()]\n",
        "burn_out.shape"
      ],
      "metadata": {
        "colab": {
          "base_uri": "https://localhost:8080/"
        },
        "id": "FT67RqWQwOpz",
        "outputId": "637410c9-49b0-459a-d434-ae9083b1839b"
      },
      "execution_count": 134,
      "outputs": [
        {
          "output_type": "execute_result",
          "data": {
            "text/plain": [
              "(21626, 9)"
            ]
          },
          "metadata": {},
          "execution_count": 134
        }
      ]
    },
    {
      "cell_type": "markdown",
      "source": [
        "Потеря данных незначительна, так и оставим"
      ],
      "metadata": {
        "id": "3OE9lIs0xKlT"
      }
    },
    {
      "cell_type": "markdown",
      "source": [
        "Стоит убрать айдишники сотрудников - они для обучения ни к чему"
      ],
      "metadata": {
        "id": "1UY_xk8D_1Gq"
      }
    },
    {
      "cell_type": "code",
      "source": [
        "burn_out = burn_out.drop(columns=['Employee ID'])\n",
        "burn_out"
      ],
      "metadata": {
        "colab": {
          "base_uri": "https://localhost:8080/",
          "height": 458
        },
        "id": "qyxck8kF__FD",
        "outputId": "7d94406f-8b75-4ffe-e328-e1dec2463bad"
      },
      "execution_count": 135,
      "outputs": [
        {
          "output_type": "execute_result",
          "data": {
            "text/plain": [
              "      Date of Joining  Gender Company Type WFH Setup Available  Designation  \\\n",
              "0          2008-09-30  Female      Service                  No          2.0   \n",
              "1          2008-11-30    Male      Service                 Yes          1.0   \n",
              "2          2008-03-10  Female      Product                 Yes          2.0   \n",
              "3          2008-11-03    Male      Service                 Yes          1.0   \n",
              "4          2008-07-24  Female      Service                  No          3.0   \n",
              "...               ...     ...          ...                 ...          ...   \n",
              "22745      2008-12-30  Female      Service                  No          1.0   \n",
              "22746      2008-01-19  Female      Product                 Yes          3.0   \n",
              "22747      2008-11-05    Male      Service                 Yes          3.0   \n",
              "22748      2008-01-10  Female      Service                  No          2.0   \n",
              "22749      2008-01-06    Male      Product                  No          3.0   \n",
              "\n",
              "       Resource Allocation  Mental Fatigue Score  Burn Rate  \n",
              "0                      3.0                   3.8       0.16  \n",
              "1                      2.0                   5.0       0.36  \n",
              "2                      NaN                   5.8       0.49  \n",
              "3                      1.0                   2.6       0.20  \n",
              "4                      7.0                   6.9       0.52  \n",
              "...                    ...                   ...        ...  \n",
              "22745                  3.0                   NaN       0.41  \n",
              "22746                  6.0                   6.7       0.59  \n",
              "22747                  7.0                   NaN       0.72  \n",
              "22748                  5.0                   5.9       0.52  \n",
              "22749                  6.0                   7.8       0.61  \n",
              "\n",
              "[21626 rows x 8 columns]"
            ],
            "text/html": [
              "\n",
              "  <div id=\"df-538c1c5b-32e2-4c4e-a1cb-deef8f45f979\" class=\"colab-df-container\">\n",
              "    <div>\n",
              "<style scoped>\n",
              "    .dataframe tbody tr th:only-of-type {\n",
              "        vertical-align: middle;\n",
              "    }\n",
              "\n",
              "    .dataframe tbody tr th {\n",
              "        vertical-align: top;\n",
              "    }\n",
              "\n",
              "    .dataframe thead th {\n",
              "        text-align: right;\n",
              "    }\n",
              "</style>\n",
              "<table border=\"1\" class=\"dataframe\">\n",
              "  <thead>\n",
              "    <tr style=\"text-align: right;\">\n",
              "      <th></th>\n",
              "      <th>Date of Joining</th>\n",
              "      <th>Gender</th>\n",
              "      <th>Company Type</th>\n",
              "      <th>WFH Setup Available</th>\n",
              "      <th>Designation</th>\n",
              "      <th>Resource Allocation</th>\n",
              "      <th>Mental Fatigue Score</th>\n",
              "      <th>Burn Rate</th>\n",
              "    </tr>\n",
              "  </thead>\n",
              "  <tbody>\n",
              "    <tr>\n",
              "      <th>0</th>\n",
              "      <td>2008-09-30</td>\n",
              "      <td>Female</td>\n",
              "      <td>Service</td>\n",
              "      <td>No</td>\n",
              "      <td>2.0</td>\n",
              "      <td>3.0</td>\n",
              "      <td>3.8</td>\n",
              "      <td>0.16</td>\n",
              "    </tr>\n",
              "    <tr>\n",
              "      <th>1</th>\n",
              "      <td>2008-11-30</td>\n",
              "      <td>Male</td>\n",
              "      <td>Service</td>\n",
              "      <td>Yes</td>\n",
              "      <td>1.0</td>\n",
              "      <td>2.0</td>\n",
              "      <td>5.0</td>\n",
              "      <td>0.36</td>\n",
              "    </tr>\n",
              "    <tr>\n",
              "      <th>2</th>\n",
              "      <td>2008-03-10</td>\n",
              "      <td>Female</td>\n",
              "      <td>Product</td>\n",
              "      <td>Yes</td>\n",
              "      <td>2.0</td>\n",
              "      <td>NaN</td>\n",
              "      <td>5.8</td>\n",
              "      <td>0.49</td>\n",
              "    </tr>\n",
              "    <tr>\n",
              "      <th>3</th>\n",
              "      <td>2008-11-03</td>\n",
              "      <td>Male</td>\n",
              "      <td>Service</td>\n",
              "      <td>Yes</td>\n",
              "      <td>1.0</td>\n",
              "      <td>1.0</td>\n",
              "      <td>2.6</td>\n",
              "      <td>0.20</td>\n",
              "    </tr>\n",
              "    <tr>\n",
              "      <th>4</th>\n",
              "      <td>2008-07-24</td>\n",
              "      <td>Female</td>\n",
              "      <td>Service</td>\n",
              "      <td>No</td>\n",
              "      <td>3.0</td>\n",
              "      <td>7.0</td>\n",
              "      <td>6.9</td>\n",
              "      <td>0.52</td>\n",
              "    </tr>\n",
              "    <tr>\n",
              "      <th>...</th>\n",
              "      <td>...</td>\n",
              "      <td>...</td>\n",
              "      <td>...</td>\n",
              "      <td>...</td>\n",
              "      <td>...</td>\n",
              "      <td>...</td>\n",
              "      <td>...</td>\n",
              "      <td>...</td>\n",
              "    </tr>\n",
              "    <tr>\n",
              "      <th>22745</th>\n",
              "      <td>2008-12-30</td>\n",
              "      <td>Female</td>\n",
              "      <td>Service</td>\n",
              "      <td>No</td>\n",
              "      <td>1.0</td>\n",
              "      <td>3.0</td>\n",
              "      <td>NaN</td>\n",
              "      <td>0.41</td>\n",
              "    </tr>\n",
              "    <tr>\n",
              "      <th>22746</th>\n",
              "      <td>2008-01-19</td>\n",
              "      <td>Female</td>\n",
              "      <td>Product</td>\n",
              "      <td>Yes</td>\n",
              "      <td>3.0</td>\n",
              "      <td>6.0</td>\n",
              "      <td>6.7</td>\n",
              "      <td>0.59</td>\n",
              "    </tr>\n",
              "    <tr>\n",
              "      <th>22747</th>\n",
              "      <td>2008-11-05</td>\n",
              "      <td>Male</td>\n",
              "      <td>Service</td>\n",
              "      <td>Yes</td>\n",
              "      <td>3.0</td>\n",
              "      <td>7.0</td>\n",
              "      <td>NaN</td>\n",
              "      <td>0.72</td>\n",
              "    </tr>\n",
              "    <tr>\n",
              "      <th>22748</th>\n",
              "      <td>2008-01-10</td>\n",
              "      <td>Female</td>\n",
              "      <td>Service</td>\n",
              "      <td>No</td>\n",
              "      <td>2.0</td>\n",
              "      <td>5.0</td>\n",
              "      <td>5.9</td>\n",
              "      <td>0.52</td>\n",
              "    </tr>\n",
              "    <tr>\n",
              "      <th>22749</th>\n",
              "      <td>2008-01-06</td>\n",
              "      <td>Male</td>\n",
              "      <td>Product</td>\n",
              "      <td>No</td>\n",
              "      <td>3.0</td>\n",
              "      <td>6.0</td>\n",
              "      <td>7.8</td>\n",
              "      <td>0.61</td>\n",
              "    </tr>\n",
              "  </tbody>\n",
              "</table>\n",
              "<p>21626 rows × 8 columns</p>\n",
              "</div>\n",
              "    <div class=\"colab-df-buttons\">\n",
              "\n",
              "  <div class=\"colab-df-container\">\n",
              "    <button class=\"colab-df-convert\" onclick=\"convertToInteractive('df-538c1c5b-32e2-4c4e-a1cb-deef8f45f979')\"\n",
              "            title=\"Convert this dataframe to an interactive table.\"\n",
              "            style=\"display:none;\">\n",
              "\n",
              "  <svg xmlns=\"http://www.w3.org/2000/svg\" height=\"24px\" viewBox=\"0 -960 960 960\">\n",
              "    <path d=\"M120-120v-720h720v720H120Zm60-500h600v-160H180v160Zm220 220h160v-160H400v160Zm0 220h160v-160H400v160ZM180-400h160v-160H180v160Zm440 0h160v-160H620v160ZM180-180h160v-160H180v160Zm440 0h160v-160H620v160Z\"/>\n",
              "  </svg>\n",
              "    </button>\n",
              "\n",
              "  <style>\n",
              "    .colab-df-container {\n",
              "      display:flex;\n",
              "      gap: 12px;\n",
              "    }\n",
              "\n",
              "    .colab-df-convert {\n",
              "      background-color: #E8F0FE;\n",
              "      border: none;\n",
              "      border-radius: 50%;\n",
              "      cursor: pointer;\n",
              "      display: none;\n",
              "      fill: #1967D2;\n",
              "      height: 32px;\n",
              "      padding: 0 0 0 0;\n",
              "      width: 32px;\n",
              "    }\n",
              "\n",
              "    .colab-df-convert:hover {\n",
              "      background-color: #E2EBFA;\n",
              "      box-shadow: 0px 1px 2px rgba(60, 64, 67, 0.3), 0px 1px 3px 1px rgba(60, 64, 67, 0.15);\n",
              "      fill: #174EA6;\n",
              "    }\n",
              "\n",
              "    .colab-df-buttons div {\n",
              "      margin-bottom: 4px;\n",
              "    }\n",
              "\n",
              "    [theme=dark] .colab-df-convert {\n",
              "      background-color: #3B4455;\n",
              "      fill: #D2E3FC;\n",
              "    }\n",
              "\n",
              "    [theme=dark] .colab-df-convert:hover {\n",
              "      background-color: #434B5C;\n",
              "      box-shadow: 0px 1px 3px 1px rgba(0, 0, 0, 0.15);\n",
              "      filter: drop-shadow(0px 1px 2px rgba(0, 0, 0, 0.3));\n",
              "      fill: #FFFFFF;\n",
              "    }\n",
              "  </style>\n",
              "\n",
              "    <script>\n",
              "      const buttonEl =\n",
              "        document.querySelector('#df-538c1c5b-32e2-4c4e-a1cb-deef8f45f979 button.colab-df-convert');\n",
              "      buttonEl.style.display =\n",
              "        google.colab.kernel.accessAllowed ? 'block' : 'none';\n",
              "\n",
              "      async function convertToInteractive(key) {\n",
              "        const element = document.querySelector('#df-538c1c5b-32e2-4c4e-a1cb-deef8f45f979');\n",
              "        const dataTable =\n",
              "          await google.colab.kernel.invokeFunction('convertToInteractive',\n",
              "                                                    [key], {});\n",
              "        if (!dataTable) return;\n",
              "\n",
              "        const docLinkHtml = 'Like what you see? Visit the ' +\n",
              "          '<a target=\"_blank\" href=https://colab.research.google.com/notebooks/data_table.ipynb>data table notebook</a>'\n",
              "          + ' to learn more about interactive tables.';\n",
              "        element.innerHTML = '';\n",
              "        dataTable['output_type'] = 'display_data';\n",
              "        await google.colab.output.renderOutput(dataTable, element);\n",
              "        const docLink = document.createElement('div');\n",
              "        docLink.innerHTML = docLinkHtml;\n",
              "        element.appendChild(docLink);\n",
              "      }\n",
              "    </script>\n",
              "  </div>\n",
              "\n",
              "\n",
              "<div id=\"df-ef60d8f1-5d4f-46e9-8e33-209af16ba1e6\">\n",
              "  <button class=\"colab-df-quickchart\" onclick=\"quickchart('df-ef60d8f1-5d4f-46e9-8e33-209af16ba1e6')\"\n",
              "            title=\"Suggest charts\"\n",
              "            style=\"display:none;\">\n",
              "\n",
              "<svg xmlns=\"http://www.w3.org/2000/svg\" height=\"24px\"viewBox=\"0 0 24 24\"\n",
              "     width=\"24px\">\n",
              "    <g>\n",
              "        <path d=\"M19 3H5c-1.1 0-2 .9-2 2v14c0 1.1.9 2 2 2h14c1.1 0 2-.9 2-2V5c0-1.1-.9-2-2-2zM9 17H7v-7h2v7zm4 0h-2V7h2v10zm4 0h-2v-4h2v4z\"/>\n",
              "    </g>\n",
              "</svg>\n",
              "  </button>\n",
              "\n",
              "<style>\n",
              "  .colab-df-quickchart {\n",
              "      --bg-color: #E8F0FE;\n",
              "      --fill-color: #1967D2;\n",
              "      --hover-bg-color: #E2EBFA;\n",
              "      --hover-fill-color: #174EA6;\n",
              "      --disabled-fill-color: #AAA;\n",
              "      --disabled-bg-color: #DDD;\n",
              "  }\n",
              "\n",
              "  [theme=dark] .colab-df-quickchart {\n",
              "      --bg-color: #3B4455;\n",
              "      --fill-color: #D2E3FC;\n",
              "      --hover-bg-color: #434B5C;\n",
              "      --hover-fill-color: #FFFFFF;\n",
              "      --disabled-bg-color: #3B4455;\n",
              "      --disabled-fill-color: #666;\n",
              "  }\n",
              "\n",
              "  .colab-df-quickchart {\n",
              "    background-color: var(--bg-color);\n",
              "    border: none;\n",
              "    border-radius: 50%;\n",
              "    cursor: pointer;\n",
              "    display: none;\n",
              "    fill: var(--fill-color);\n",
              "    height: 32px;\n",
              "    padding: 0;\n",
              "    width: 32px;\n",
              "  }\n",
              "\n",
              "  .colab-df-quickchart:hover {\n",
              "    background-color: var(--hover-bg-color);\n",
              "    box-shadow: 0 1px 2px rgba(60, 64, 67, 0.3), 0 1px 3px 1px rgba(60, 64, 67, 0.15);\n",
              "    fill: var(--button-hover-fill-color);\n",
              "  }\n",
              "\n",
              "  .colab-df-quickchart-complete:disabled,\n",
              "  .colab-df-quickchart-complete:disabled:hover {\n",
              "    background-color: var(--disabled-bg-color);\n",
              "    fill: var(--disabled-fill-color);\n",
              "    box-shadow: none;\n",
              "  }\n",
              "\n",
              "  .colab-df-spinner {\n",
              "    border: 2px solid var(--fill-color);\n",
              "    border-color: transparent;\n",
              "    border-bottom-color: var(--fill-color);\n",
              "    animation:\n",
              "      spin 1s steps(1) infinite;\n",
              "  }\n",
              "\n",
              "  @keyframes spin {\n",
              "    0% {\n",
              "      border-color: transparent;\n",
              "      border-bottom-color: var(--fill-color);\n",
              "      border-left-color: var(--fill-color);\n",
              "    }\n",
              "    20% {\n",
              "      border-color: transparent;\n",
              "      border-left-color: var(--fill-color);\n",
              "      border-top-color: var(--fill-color);\n",
              "    }\n",
              "    30% {\n",
              "      border-color: transparent;\n",
              "      border-left-color: var(--fill-color);\n",
              "      border-top-color: var(--fill-color);\n",
              "      border-right-color: var(--fill-color);\n",
              "    }\n",
              "    40% {\n",
              "      border-color: transparent;\n",
              "      border-right-color: var(--fill-color);\n",
              "      border-top-color: var(--fill-color);\n",
              "    }\n",
              "    60% {\n",
              "      border-color: transparent;\n",
              "      border-right-color: var(--fill-color);\n",
              "    }\n",
              "    80% {\n",
              "      border-color: transparent;\n",
              "      border-right-color: var(--fill-color);\n",
              "      border-bottom-color: var(--fill-color);\n",
              "    }\n",
              "    90% {\n",
              "      border-color: transparent;\n",
              "      border-bottom-color: var(--fill-color);\n",
              "    }\n",
              "  }\n",
              "</style>\n",
              "\n",
              "  <script>\n",
              "    async function quickchart(key) {\n",
              "      const quickchartButtonEl =\n",
              "        document.querySelector('#' + key + ' button');\n",
              "      quickchartButtonEl.disabled = true;  // To prevent multiple clicks.\n",
              "      quickchartButtonEl.classList.add('colab-df-spinner');\n",
              "      try {\n",
              "        const charts = await google.colab.kernel.invokeFunction(\n",
              "            'suggestCharts', [key], {});\n",
              "      } catch (error) {\n",
              "        console.error('Error during call to suggestCharts:', error);\n",
              "      }\n",
              "      quickchartButtonEl.classList.remove('colab-df-spinner');\n",
              "      quickchartButtonEl.classList.add('colab-df-quickchart-complete');\n",
              "    }\n",
              "    (() => {\n",
              "      let quickchartButtonEl =\n",
              "        document.querySelector('#df-ef60d8f1-5d4f-46e9-8e33-209af16ba1e6 button');\n",
              "      quickchartButtonEl.style.display =\n",
              "        google.colab.kernel.accessAllowed ? 'block' : 'none';\n",
              "    })();\n",
              "  </script>\n",
              "</div>\n",
              "    </div>\n",
              "  </div>\n"
            ],
            "application/vnd.google.colaboratory.intrinsic+json": {
              "type": "dataframe",
              "variable_name": "burn_out",
              "summary": "{\n  \"name\": \"burn_out\",\n  \"rows\": 21626,\n  \"fields\": [\n    {\n      \"column\": \"Date of Joining\",\n      \"properties\": {\n        \"dtype\": \"object\",\n        \"num_unique_values\": 366,\n        \"samples\": [\n          \"2008-12-24\",\n          \"2008-06-17\",\n          \"2008-02-03\"\n        ],\n        \"semantic_type\": \"\",\n        \"description\": \"\"\n      }\n    },\n    {\n      \"column\": \"Gender\",\n      \"properties\": {\n        \"dtype\": \"category\",\n        \"num_unique_values\": 2,\n        \"samples\": [\n          \"Male\",\n          \"Female\"\n        ],\n        \"semantic_type\": \"\",\n        \"description\": \"\"\n      }\n    },\n    {\n      \"column\": \"Company Type\",\n      \"properties\": {\n        \"dtype\": \"category\",\n        \"num_unique_values\": 2,\n        \"samples\": [\n          \"Product\",\n          \"Service\"\n        ],\n        \"semantic_type\": \"\",\n        \"description\": \"\"\n      }\n    },\n    {\n      \"column\": \"WFH Setup Available\",\n      \"properties\": {\n        \"dtype\": \"category\",\n        \"num_unique_values\": 2,\n        \"samples\": [\n          \"Yes\",\n          \"No\"\n        ],\n        \"semantic_type\": \"\",\n        \"description\": \"\"\n      }\n    },\n    {\n      \"column\": \"Designation\",\n      \"properties\": {\n        \"dtype\": \"number\",\n        \"std\": 1.1354282018749209,\n        \"min\": 0.0,\n        \"max\": 5.0,\n        \"num_unique_values\": 6,\n        \"samples\": [\n          2.0,\n          1.0\n        ],\n        \"semantic_type\": \"\",\n        \"description\": \"\"\n      }\n    },\n    {\n      \"column\": \"Resource Allocation\",\n      \"properties\": {\n        \"dtype\": \"number\",\n        \"std\": 2.0481701009028317,\n        \"min\": 1.0,\n        \"max\": 10.0,\n        \"num_unique_values\": 10,\n        \"samples\": [\n          10.0,\n          2.0\n        ],\n        \"semantic_type\": \"\",\n        \"description\": \"\"\n      }\n    },\n    {\n      \"column\": \"Mental Fatigue Score\",\n      \"properties\": {\n        \"dtype\": \"number\",\n        \"std\": 1.920784271772575,\n        \"min\": 0.0,\n        \"max\": 10.0,\n        \"num_unique_values\": 101,\n        \"samples\": [\n          1.7,\n          4.5\n        ],\n        \"semantic_type\": \"\",\n        \"description\": \"\"\n      }\n    },\n    {\n      \"column\": \"Burn Rate\",\n      \"properties\": {\n        \"dtype\": \"number\",\n        \"std\": 0.19822636950113903,\n        \"min\": 0.0,\n        \"max\": 1.0,\n        \"num_unique_values\": 101,\n        \"samples\": [\n          0.64,\n          0.0\n        ],\n        \"semantic_type\": \"\",\n        \"description\": \"\"\n      }\n    }\n  ]\n}"
            }
          },
          "metadata": {},
          "execution_count": 135
        }
      ]
    },
    {
      "cell_type": "markdown",
      "source": [
        "## Визуальный анализ"
      ],
      "metadata": {
        "id": "XN7O3De-yD7C"
      }
    },
    {
      "cell_type": "markdown",
      "source": [
        "Посмотрим на значения из столбца `Burn Rate`"
      ],
      "metadata": {
        "id": "yV1l247lq0C3"
      }
    },
    {
      "cell_type": "code",
      "source": [
        "burn_out['Burn Rate'].mean()"
      ],
      "metadata": {
        "colab": {
          "base_uri": "https://localhost:8080/"
        },
        "id": "i48zwKC1qZVM",
        "outputId": "8faee913-567a-40a3-d1a7-7855445af576"
      },
      "execution_count": 136,
      "outputs": [
        {
          "output_type": "execute_result",
          "data": {
            "text/plain": [
              "0.45200545639508"
            ]
          },
          "metadata": {},
          "execution_count": 136
        }
      ]
    },
    {
      "cell_type": "code",
      "source": [
        "burn_out['Burn Rate'].max()"
      ],
      "metadata": {
        "colab": {
          "base_uri": "https://localhost:8080/"
        },
        "id": "Igo2omR4qmxW",
        "outputId": "0bc837b0-79e0-46d3-ce6b-8f515cbb2413"
      },
      "execution_count": 137,
      "outputs": [
        {
          "output_type": "execute_result",
          "data": {
            "text/plain": [
              "1.0"
            ]
          },
          "metadata": {},
          "execution_count": 137
        }
      ]
    },
    {
      "cell_type": "code",
      "source": [
        "burn_out['Burn Rate'].min()"
      ],
      "metadata": {
        "colab": {
          "base_uri": "https://localhost:8080/"
        },
        "id": "9nyDS5stqr_9",
        "outputId": "d62bc787-2336-4490-ddea-5ac99a7dde09"
      },
      "execution_count": 138,
      "outputs": [
        {
          "output_type": "execute_result",
          "data": {
            "text/plain": [
              "0.0"
            ]
          },
          "metadata": {},
          "execution_count": 138
        }
      ]
    },
    {
      "cell_type": "code",
      "source": [
        "import matplotlib.pyplot as plt\n",
        "import seaborn as sns\n",
        "\n",
        "def hist(column_name):\n",
        "  # matplotlib histogram\n",
        "  plt.hist(burn_out[column_name], color = 'blue', edgecolor = 'black',\n",
        "          bins = int(180/5))\n",
        "  # Add labels\n",
        "  plt.title('Histogram of {}'.format(column_name))\n",
        "  plt.xlabel(column_name)\n",
        "  plt.ylabel('Employees')\n",
        "\n",
        "hist('Burn Rate')"
      ],
      "metadata": {
        "colab": {
          "base_uri": "https://localhost:8080/",
          "height": 472
        },
        "id": "m9LeJnQnq8dc",
        "outputId": "13726834-878d-408b-e943-aa6a55e65266"
      },
      "execution_count": 139,
      "outputs": [
        {
          "output_type": "display_data",
          "data": {
            "text/plain": [
              "<Figure size 640x480 with 1 Axes>"
            ],
            "image/png": "[encoded data removed]"
          },
          "metadata": {}
        }
      ]
    },
    {
      "cell_type": "markdown",
      "source": [
        "Компания понимает, что всем сотрудникам помочь не сможет. На уровне HR-менеджмента компания приняла решение, что будет считать самыми выгоревшеми сотрудников с Burn Rate >= `0.8`. Здесь и далее мы заменим переменную Burn Rate на бинарную переменную `Burned out` со значениями `True`/`False`"
      ],
      "metadata": {
        "id": "MhEny9RVsKOe"
      }
    },
    {
      "cell_type": "code",
      "source": [
        "def binary_burn(rate):\n",
        "  if rate < 0.8:\n",
        "    return False\n",
        "  else:\n",
        "    return True\n",
        "burn_out['Burned out'] = burn_out['Burn Rate'].map(binary_burn)\n",
        "burn_out.head()"
      ],
      "metadata": {
        "colab": {
          "base_uri": "https://localhost:8080/",
          "height": 241
        },
        "id": "CqUdAV9Jswwp",
        "outputId": "bc002a22-8fa6-422e-b628-cd529471a26b"
      },
      "execution_count": 140,
      "outputs": [
        {
          "output_type": "execute_result",
          "data": {
            "text/plain": [
              "  Date of Joining  Gender Company Type WFH Setup Available  Designation  \\\n",
              "0      2008-09-30  Female      Service                  No          2.0   \n",
              "1      2008-11-30    Male      Service                 Yes          1.0   \n",
              "2      2008-03-10  Female      Product                 Yes          2.0   \n",
              "3      2008-11-03    Male      Service                 Yes          1.0   \n",
              "4      2008-07-24  Female      Service                  No          3.0   \n",
              "\n",
              "   Resource Allocation  Mental Fatigue Score  Burn Rate  Burned out  \n",
              "0                  3.0                   3.8       0.16       False  \n",
              "1                  2.0                   5.0       0.36       False  \n",
              "2                  NaN                   5.8       0.49       False  \n",
              "3                  1.0                   2.6       0.20       False  \n",
              "4                  7.0                   6.9       0.52       False  "
            ],
            "text/html": [
              "\n",
              "  <div id=\"df-a97bea40-5c5a-42b9-82c4-5f5ab3f2968e\" class=\"colab-df-container\">\n",
              "    <div>\n",
              "<style scoped>\n",
              "    .dataframe tbody tr th:only-of-type {\n",
              "        vertical-align: middle;\n",
              "    }\n",
              "\n",
              "    .dataframe tbody tr th {\n",
              "        vertical-align: top;\n",
              "    }\n",
              "\n",
              "    .dataframe thead th {\n",
              "        text-align: right;\n",
              "    }\n",
              "</style>\n",
              "<table border=\"1\" class=\"dataframe\">\n",
              "  <thead>\n",
              "    <tr style=\"text-align: right;\">\n",
              "      <th></th>\n",
              "      <th>Date of Joining</th>\n",
              "      <th>Gender</th>\n",
              "      <th>Company Type</th>\n",
              "      <th>WFH Setup Available</th>\n",
              "      <th>Designation</th>\n",
              "      <th>Resource Allocation</th>\n",
              "      <th>Mental Fatigue Score</th>\n",
              "      <th>Burn Rate</th>\n",
              "      <th>Burned out</th>\n",
              "    </tr>\n",
              "  </thead>\n",
              "  <tbody>\n",
              "    <tr>\n",
              "      <th>0</th>\n",
              "      <td>2008-09-30</td>\n",
              "      <td>Female</td>\n",
              "      <td>Service</td>\n",
              "      <td>No</td>\n",
              "      <td>2.0</td>\n",
              "      <td>3.0</td>\n",
              "      <td>3.8</td>\n",
              "      <td>0.16</td>\n",
              "      <td>False</td>\n",
              "    </tr>\n",
              "    <tr>\n",
              "      <th>1</th>\n",
              "      <td>2008-11-30</td>\n",
              "      <td>Male</td>\n",
              "      <td>Service</td>\n",
              "      <td>Yes</td>\n",
              "      <td>1.0</td>\n",
              "      <td>2.0</td>\n",
              "      <td>5.0</td>\n",
              "      <td>0.36</td>\n",
              "      <td>False</td>\n",
              "    </tr>\n",
              "    <tr>\n",
              "      <th>2</th>\n",
              "      <td>2008-03-10</td>\n",
              "      <td>Female</td>\n",
              "      <td>Product</td>\n",
              "      <td>Yes</td>\n",
              "      <td>2.0</td>\n",
              "      <td>NaN</td>\n",
              "      <td>5.8</td>\n",
              "      <td>0.49</td>\n",
              "      <td>False</td>\n",
              "    </tr>\n",
              "    <tr>\n",
              "      <th>3</th>\n",
              "      <td>2008-11-03</td>\n",
              "      <td>Male</td>\n",
              "      <td>Service</td>\n",
              "      <td>Yes</td>\n",
              "      <td>1.0</td>\n",
              "      <td>1.0</td>\n",
              "      <td>2.6</td>\n",
              "      <td>0.20</td>\n",
              "      <td>False</td>\n",
              "    </tr>\n",
              "    <tr>\n",
              "      <th>4</th>\n",
              "      <td>2008-07-24</td>\n",
              "      <td>Female</td>\n",
              "      <td>Service</td>\n",
              "      <td>No</td>\n",
              "      <td>3.0</td>\n",
              "      <td>7.0</td>\n",
              "      <td>6.9</td>\n",
              "      <td>0.52</td>\n",
              "      <td>False</td>\n",
              "    </tr>\n",
              "  </tbody>\n",
              "</table>\n",
              "</div>\n",
              "    <div class=\"colab-df-buttons\">\n",
              "\n",
              "  <div class=\"colab-df-container\">\n",
              "    <button class=\"colab-df-convert\" onclick=\"convertToInteractive('df-a97bea40-5c5a-42b9-82c4-5f5ab3f2968e')\"\n",
              "            title=\"Convert this dataframe to an interactive table.\"\n",
              "            style=\"display:none;\">\n",
              "\n",
              "  <svg xmlns=\"http://www.w3.org/2000/svg\" height=\"24px\" viewBox=\"0 -960 960 960\">\n",
              "    <path d=\"M120-120v-720h720v720H120Zm60-500h600v-160H180v160Zm220 220h160v-160H400v160Zm0 220h160v-160H400v160ZM180-400h160v-160H180v160Zm440 0h160v-160H620v160ZM180-180h160v-160H180v160Zm440 0h160v-160H620v160Z\"/>\n",
              "  </svg>\n",
              "    </button>\n",
              "\n",
              "  <style>\n",
              "    .colab-df-container {\n",
              "      display:flex;\n",
              "      gap: 12px;\n",
              "    }\n",
              "\n",
              "    .colab-df-convert {\n",
              "      background-color: #E8F0FE;\n",
              "      border: none;\n",
              "      border-radius: 50%;\n",
              "      cursor: pointer;\n",
              "      display: none;\n",
              "      fill: #1967D2;\n",
              "      height: 32px;\n",
              "      padding: 0 0 0 0;\n",
              "      width: 32px;\n",
              "    }\n",
              "\n",
              "    .colab-df-convert:hover {\n",
              "      background-color: #E2EBFA;\n",
              "      box-shadow: 0px 1px 2px rgba(60, 64, 67, 0.3), 0px 1px 3px 1px rgba(60, 64, 67, 0.15);\n",
              "      fill: #174EA6;\n",
              "    }\n",
              "\n",
              "    .colab-df-buttons div {\n",
              "      margin-bottom: 4px;\n",
              "    }\n",
              "\n",
              "    [theme=dark] .colab-df-convert {\n",
              "      background-color: #3B4455;\n",
              "      fill: #D2E3FC;\n",
              "    }\n",
              "\n",
              "    [theme=dark] .colab-df-convert:hover {\n",
              "      background-color: #434B5C;\n",
              "      box-shadow: 0px 1px 3px 1px rgba(0, 0, 0, 0.15);\n",
              "      filter: drop-shadow(0px 1px 2px rgba(0, 0, 0, 0.3));\n",
              "      fill: #FFFFFF;\n",
              "    }\n",
              "  </style>\n",
              "\n",
              "    <script>\n",
              "      const buttonEl =\n",
              "        document.querySelector('#df-a97bea40-5c5a-42b9-82c4-5f5ab3f2968e button.colab-df-convert');\n",
              "      buttonEl.style.display =\n",
              "        google.colab.kernel.accessAllowed ? 'block' : 'none';\n",
              "\n",
              "      async function convertToInteractive(key) {\n",
              "        const element = document.querySelector('#df-a97bea40-5c5a-42b9-82c4-5f5ab3f2968e');\n",
              "        const dataTable =\n",
              "          await google.colab.kernel.invokeFunction('convertToInteractive',\n",
              "                                                    [key], {});\n",
              "        if (!dataTable) return;\n",
              "\n",
              "        const docLinkHtml = 'Like what you see? Visit the ' +\n",
              "          '<a target=\"_blank\" href=https://colab.research.google.com/notebooks/data_table.ipynb>data table notebook</a>'\n",
              "          + ' to learn more about interactive tables.';\n",
              "        element.innerHTML = '';\n",
              "        dataTable['output_type'] = 'display_data';\n",
              "        await google.colab.output.renderOutput(dataTable, element);\n",
              "        const docLink = document.createElement('div');\n",
              "        docLink.innerHTML = docLinkHtml;\n",
              "        element.appendChild(docLink);\n",
              "      }\n",
              "    </script>\n",
              "  </div>\n",
              "\n",
              "\n",
              "<div id=\"df-b9ecd4a2-57d2-462e-9958-6892fc797645\">\n",
              "  <button class=\"colab-df-quickchart\" onclick=\"quickchart('df-b9ecd4a2-57d2-462e-9958-6892fc797645')\"\n",
              "            title=\"Suggest charts\"\n",
              "            style=\"display:none;\">\n",
              "\n",
              "<svg xmlns=\"http://www.w3.org/2000/svg\" height=\"24px\"viewBox=\"0 0 24 24\"\n",
              "     width=\"24px\">\n",
              "    <g>\n",
              "        <path d=\"M19 3H5c-1.1 0-2 .9-2 2v14c0 1.1.9 2 2 2h14c1.1 0 2-.9 2-2V5c0-1.1-.9-2-2-2zM9 17H7v-7h2v7zm4 0h-2V7h2v10zm4 0h-2v-4h2v4z\"/>\n",
              "    </g>\n",
              "</svg>\n",
              "  </button>\n",
              "\n",
              "<style>\n",
              "  .colab-df-quickchart {\n",
              "      --bg-color: #E8F0FE;\n",
              "      --fill-color: #1967D2;\n",
              "      --hover-bg-color: #E2EBFA;\n",
              "      --hover-fill-color: #174EA6;\n",
              "      --disabled-fill-color: #AAA;\n",
              "      --disabled-bg-color: #DDD;\n",
              "  }\n",
              "\n",
              "  [theme=dark] .colab-df-quickchart {\n",
              "      --bg-color: #3B4455;\n",
              "      --fill-color: #D2E3FC;\n",
              "      --hover-bg-color: #434B5C;\n",
              "      --hover-fill-color: #FFFFFF;\n",
              "      --disabled-bg-color: #3B4455;\n",
              "      --disabled-fill-color: #666;\n",
              "  }\n",
              "\n",
              "  .colab-df-quickchart {\n",
              "    background-color: var(--bg-color);\n",
              "    border: none;\n",
              "    border-radius: 50%;\n",
              "    cursor: pointer;\n",
              "    display: none;\n",
              "    fill: var(--fill-color);\n",
              "    height: 32px;\n",
              "    padding: 0;\n",
              "    width: 32px;\n",
              "  }\n",
              "\n",
              "  .colab-df-quickchart:hover {\n",
              "    background-color: var(--hover-bg-color);\n",
              "    box-shadow: 0 1px 2px rgba(60, 64, 67, 0.3), 0 1px 3px 1px rgba(60, 64, 67, 0.15);\n",
              "    fill: var(--button-hover-fill-color);\n",
              "  }\n",
              "\n",
              "  .colab-df-quickchart-complete:disabled,\n",
              "  .colab-df-quickchart-complete:disabled:hover {\n",
              "    background-color: var(--disabled-bg-color);\n",
              "    fill: var(--disabled-fill-color);\n",
              "    box-shadow: none;\n",
              "  }\n",
              "\n",
              "  .colab-df-spinner {\n",
              "    border: 2px solid var(--fill-color);\n",
              "    border-color: transparent;\n",
              "    border-bottom-color: var(--fill-color);\n",
              "    animation:\n",
              "      spin 1s steps(1) infinite;\n",
              "  }\n",
              "\n",
              "  @keyframes spin {\n",
              "    0% {\n",
              "      border-color: transparent;\n",
              "      border-bottom-color: var(--fill-color);\n",
              "      border-left-color: var(--fill-color);\n",
              "    }\n",
              "    20% {\n",
              "      border-color: transparent;\n",
              "      border-left-color: var(--fill-color);\n",
              "      border-top-color: var(--fill-color);\n",
              "    }\n",
              "    30% {\n",
              "      border-color: transparent;\n",
              "      border-left-color: var(--fill-color);\n",
              "      border-top-color: var(--fill-color);\n",
              "      border-right-color: var(--fill-color);\n",
              "    }\n",
              "    40% {\n",
              "      border-color: transparent;\n",
              "      border-right-color: var(--fill-color);\n",
              "      border-top-color: var(--fill-color);\n",
              "    }\n",
              "    60% {\n",
              "      border-color: transparent;\n",
              "      border-right-color: var(--fill-color);\n",
              "    }\n",
              "    80% {\n",
              "      border-color: transparent;\n",
              "      border-right-color: var(--fill-color);\n",
              "      border-bottom-color: var(--fill-color);\n",
              "    }\n",
              "    90% {\n",
              "      border-color: transparent;\n",
              "      border-bottom-color: var(--fill-color);\n",
              "    }\n",
              "  }\n",
              "</style>\n",
              "\n",
              "  <script>\n",
              "    async function quickchart(key) {\n",
              "      const quickchartButtonEl =\n",
              "        document.querySelector('#' + key + ' button');\n",
              "      quickchartButtonEl.disabled = true;  // To prevent multiple clicks.\n",
              "      quickchartButtonEl.classList.add('colab-df-spinner');\n",
              "      try {\n",
              "        const charts = await google.colab.kernel.invokeFunction(\n",
              "            'suggestCharts', [key], {});\n",
              "      } catch (error) {\n",
              "        console.error('Error during call to suggestCharts:', error);\n",
              "      }\n",
              "      quickchartButtonEl.classList.remove('colab-df-spinner');\n",
              "      quickchartButtonEl.classList.add('colab-df-quickchart-complete');\n",
              "    }\n",
              "    (() => {\n",
              "      let quickchartButtonEl =\n",
              "        document.querySelector('#df-b9ecd4a2-57d2-462e-9958-6892fc797645 button');\n",
              "      quickchartButtonEl.style.display =\n",
              "        google.colab.kernel.accessAllowed ? 'block' : 'none';\n",
              "    })();\n",
              "  </script>\n",
              "</div>\n",
              "    </div>\n",
              "  </div>\n"
            ],
            "application/vnd.google.colaboratory.intrinsic+json": {
              "type": "dataframe",
              "variable_name": "burn_out",
              "summary": "{\n  \"name\": \"burn_out\",\n  \"rows\": 21626,\n  \"fields\": [\n    {\n      \"column\": \"Date of Joining\",\n      \"properties\": {\n        \"dtype\": \"object\",\n        \"num_unique_values\": 366,\n        \"samples\": [\n          \"2008-12-24\",\n          \"2008-06-17\",\n          \"2008-02-03\"\n        ],\n        \"semantic_type\": \"\",\n        \"description\": \"\"\n      }\n    },\n    {\n      \"column\": \"Gender\",\n      \"properties\": {\n        \"dtype\": \"category\",\n        \"num_unique_values\": 2,\n        \"samples\": [\n          \"Male\",\n          \"Female\"\n        ],\n        \"semantic_type\": \"\",\n        \"description\": \"\"\n      }\n    },\n    {\n      \"column\": \"Company Type\",\n      \"properties\": {\n        \"dtype\": \"category\",\n        \"num_unique_values\": 2,\n        \"samples\": [\n          \"Product\",\n          \"Service\"\n        ],\n        \"semantic_type\": \"\",\n        \"description\": \"\"\n      }\n    },\n    {\n      \"column\": \"WFH Setup Available\",\n      \"properties\": {\n        \"dtype\": \"category\",\n        \"num_unique_values\": 2,\n        \"samples\": [\n          \"Yes\",\n          \"No\"\n        ],\n        \"semantic_type\": \"\",\n        \"description\": \"\"\n      }\n    },\n    {\n      \"column\": \"Designation\",\n      \"properties\": {\n        \"dtype\": \"number\",\n        \"std\": 1.1354282018749209,\n        \"min\": 0.0,\n        \"max\": 5.0,\n        \"num_unique_values\": 6,\n        \"samples\": [\n          2.0,\n          1.0\n        ],\n        \"semantic_type\": \"\",\n        \"description\": \"\"\n      }\n    },\n    {\n      \"column\": \"Resource Allocation\",\n      \"properties\": {\n        \"dtype\": \"number\",\n        \"std\": 2.0481701009028317,\n        \"min\": 1.0,\n        \"max\": 10.0,\n        \"num_unique_values\": 10,\n        \"samples\": [\n          10.0,\n          2.0\n        ],\n        \"semantic_type\": \"\",\n        \"description\": \"\"\n      }\n    },\n    {\n      \"column\": \"Mental Fatigue Score\",\n      \"properties\": {\n        \"dtype\": \"number\",\n        \"std\": 1.920784271772575,\n        \"min\": 0.0,\n        \"max\": 10.0,\n        \"num_unique_values\": 101,\n        \"samples\": [\n          1.7,\n          4.5\n        ],\n        \"semantic_type\": \"\",\n        \"description\": \"\"\n      }\n    },\n    {\n      \"column\": \"Burn Rate\",\n      \"properties\": {\n        \"dtype\": \"number\",\n        \"std\": 0.19822636950113903,\n        \"min\": 0.0,\n        \"max\": 1.0,\n        \"num_unique_values\": 101,\n        \"samples\": [\n          0.64,\n          0.0\n        ],\n        \"semantic_type\": \"\",\n        \"description\": \"\"\n      }\n    },\n    {\n      \"column\": \"Burned out\",\n      \"properties\": {\n        \"dtype\": \"boolean\",\n        \"num_unique_values\": 2,\n        \"samples\": [\n          true,\n          false\n        ],\n        \"semantic_type\": \"\",\n        \"description\": \"\"\n      }\n    }\n  ]\n}"
            }
          },
          "metadata": {},
          "execution_count": 140
        }
      ]
    },
    {
      "cell_type": "code",
      "source": [
        "def bar(column_name):\n",
        "  plt.title('Bar of {}'.format(column_name))\n",
        "  plt.xlabel(column_name)\n",
        "  plt.ylabel('Employees')\n",
        "  counts = burn_out[column_name].value_counts()\n",
        "  plt.bar(counts.index, counts.values)"
      ],
      "metadata": {
        "id": "4-eGHI73yOOU"
      },
      "execution_count": 141,
      "outputs": []
    },
    {
      "cell_type": "markdown",
      "source": [
        "Для обучения также будем использовать не дату присоединения человека в компанию, а количество дней работы"
      ],
      "metadata": {
        "id": "kSoGpNTRyvng"
      }
    },
    {
      "cell_type": "code",
      "source": [
        "real_date = datetime.strptime('2008-05-20', \"%Y-%m-%d\").date()\n",
        "(date(2020, 5, 20) - real_date).days"
      ],
      "metadata": {
        "colab": {
          "base_uri": "https://localhost:8080/"
        },
        "id": "1U1-8DTj0Ml9",
        "outputId": "7dc96881-68b6-4564-cfec-c75bd28ea3e5"
      },
      "execution_count": 142,
      "outputs": [
        {
          "output_type": "execute_result",
          "data": {
            "text/plain": [
              "4383"
            ]
          },
          "metadata": {},
          "execution_count": 142
        }
      ]
    },
    {
      "cell_type": "code",
      "source": [
        "from datetime import date\n",
        "from datetime import datetime\n",
        "def work_time(date_of_join):\n",
        "  real_date = datetime.strptime(date_of_join, \"%Y-%m-%d\").date()\n",
        "  return (date(2020, 5, 20) - real_date).days\n",
        "\n",
        "burn_out['Work time'] = burn_out['Date of Joining'].map(work_time)\n",
        "burn_out = burn_out.drop(columns=['Date of Joining'])\n",
        "burn_out.head()"
      ],
      "metadata": {
        "colab": {
          "base_uri": "https://localhost:8080/",
          "height": 241
        },
        "id": "vxJ3MXhHy3ii",
        "outputId": "250f790c-d242-4738-82ce-66b8c64693a3"
      },
      "execution_count": 143,
      "outputs": [
        {
          "output_type": "execute_result",
          "data": {
            "text/plain": [
              "   Gender Company Type WFH Setup Available  Designation  Resource Allocation  \\\n",
              "0  Female      Service                  No          2.0                  3.0   \n",
              "1    Male      Service                 Yes          1.0                  2.0   \n",
              "2  Female      Product                 Yes          2.0                  NaN   \n",
              "3    Male      Service                 Yes          1.0                  1.0   \n",
              "4  Female      Service                  No          3.0                  7.0   \n",
              "\n",
              "   Mental Fatigue Score  Burn Rate  Burned out  Work time  \n",
              "0                   3.8       0.16       False       4250  \n",
              "1                   5.0       0.36       False       4189  \n",
              "2                   5.8       0.49       False       4454  \n",
              "3                   2.6       0.20       False       4216  \n",
              "4                   6.9       0.52       False       4318  "
            ],
            "text/html": [
              "\n",
              "  <div id=\"df-fd5b4aa9-da9f-4553-8ba8-a6b4190f4128\" class=\"colab-df-container\">\n",
              "    <div>\n",
              "<style scoped>\n",
              "    .dataframe tbody tr th:only-of-type {\n",
              "        vertical-align: middle;\n",
              "    }\n",
              "\n",
              "    .dataframe tbody tr th {\n",
              "        vertical-align: top;\n",
              "    }\n",
              "\n",
              "    .dataframe thead th {\n",
              "        text-align: right;\n",
              "    }\n",
              "</style>\n",
              "<table border=\"1\" class=\"dataframe\">\n",
              "  <thead>\n",
              "    <tr style=\"text-align: right;\">\n",
              "      <th></th>\n",
              "      <th>Gender</th>\n",
              "      <th>Company Type</th>\n",
              "      <th>WFH Setup Available</th>\n",
              "      <th>Designation</th>\n",
              "      <th>Resource Allocation</th>\n",
              "      <th>Mental Fatigue Score</th>\n",
              "      <th>Burn Rate</th>\n",
              "      <th>Burned out</th>\n",
              "      <th>Work time</th>\n",
              "    </tr>\n",
              "  </thead>\n",
              "  <tbody>\n",
              "    <tr>\n",
              "      <th>0</th>\n",
              "      <td>Female</td>\n",
              "      <td>Service</td>\n",
              "      <td>No</td>\n",
              "      <td>2.0</td>\n",
              "      <td>3.0</td>\n",
              "      <td>3.8</td>\n",
              "      <td>0.16</td>\n",
              "      <td>False</td>\n",
              "      <td>4250</td>\n",
              "    </tr>\n",
              "    <tr>\n",
              "      <th>1</th>\n",
              "      <td>Male</td>\n",
              "      <td>Service</td>\n",
              "      <td>Yes</td>\n",
              "      <td>1.0</td>\n",
              "      <td>2.0</td>\n",
              "      <td>5.0</td>\n",
              "      <td>0.36</td>\n",
              "      <td>False</td>\n",
              "      <td>4189</td>\n",
              "    </tr>\n",
              "    <tr>\n",
              "      <th>2</th>\n",
              "      <td>Female</td>\n",
              "      <td>Product</td>\n",
              "      <td>Yes</td>\n",
              "      <td>2.0</td>\n",
              "      <td>NaN</td>\n",
              "      <td>5.8</td>\n",
              "      <td>0.49</td>\n",
              "      <td>False</td>\n",
              "      <td>4454</td>\n",
              "    </tr>\n",
              "    <tr>\n",
              "      <th>3</th>\n",
              "      <td>Male</td>\n",
              "      <td>Service</td>\n",
              "      <td>Yes</td>\n",
              "      <td>1.0</td>\n",
              "      <td>1.0</td>\n",
              "      <td>2.6</td>\n",
              "      <td>0.20</td>\n",
              "      <td>False</td>\n",
              "      <td>4216</td>\n",
              "    </tr>\n",
              "    <tr>\n",
              "      <th>4</th>\n",
              "      <td>Female</td>\n",
              "      <td>Service</td>\n",
              "      <td>No</td>\n",
              "      <td>3.0</td>\n",
              "      <td>7.0</td>\n",
              "      <td>6.9</td>\n",
              "      <td>0.52</td>\n",
              "      <td>False</td>\n",
              "      <td>4318</td>\n",
              "    </tr>\n",
              "  </tbody>\n",
              "</table>\n",
              "</div>\n",
              "    <div class=\"colab-df-buttons\">\n",
              "\n",
              "  <div class=\"colab-df-container\">\n",
              "    <button class=\"colab-df-convert\" onclick=\"convertToInteractive('df-fd5b4aa9-da9f-4553-8ba8-a6b4190f4128')\"\n",
              "            title=\"Convert this dataframe to an interactive table.\"\n",
              "            style=\"display:none;\">\n",
              "\n",
              "  <svg xmlns=\"http://www.w3.org/2000/svg\" height=\"24px\" viewBox=\"0 -960 960 960\">\n",
              "    <path d=\"M120-120v-720h720v720H120Zm60-500h600v-160H180v160Zm220 220h160v-160H400v160Zm0 220h160v-160H400v160ZM180-400h160v-160H180v160Zm440 0h160v-160H620v160ZM180-180h160v-160H180v160Zm440 0h160v-160H620v160Z\"/>\n",
              "  </svg>\n",
              "    </button>\n",
              "\n",
              "  <style>\n",
              "    .colab-df-container {\n",
              "      display:flex;\n",
              "      gap: 12px;\n",
              "    }\n",
              "\n",
              "    .colab-df-convert {\n",
              "      background-color: #E8F0FE;\n",
              "      border: none;\n",
              "      border-radius: 50%;\n",
              "      cursor: pointer;\n",
              "      display: none;\n",
              "      fill: #1967D2;\n",
              "      height: 32px;\n",
              "      padding: 0 0 0 0;\n",
              "      width: 32px;\n",
              "    }\n",
              "\n",
              "    .colab-df-convert:hover {\n",
              "      background-color: #E2EBFA;\n",
              "      box-shadow: 0px 1px 2px rgba(60, 64, 67, 0.3), 0px 1px 3px 1px rgba(60, 64, 67, 0.15);\n",
              "      fill: #174EA6;\n",
              "    }\n",
              "\n",
              "    .colab-df-buttons div {\n",
              "      margin-bottom: 4px;\n",
              "    }\n",
              "\n",
              "    [theme=dark] .colab-df-convert {\n",
              "      background-color: #3B4455;\n",
              "      fill: #D2E3FC;\n",
              "    }\n",
              "\n",
              "    [theme=dark] .colab-df-convert:hover {\n",
              "      background-color: #434B5C;\n",
              "      box-shadow: 0px 1px 3px 1px rgba(0, 0, 0, 0.15);\n",
              "      filter: drop-shadow(0px 1px 2px rgba(0, 0, 0, 0.3));\n",
              "      fill: #FFFFFF;\n",
              "    }\n",
              "  </style>\n",
              "\n",
              "    <script>\n",
              "      const buttonEl =\n",
              "        document.querySelector('#df-fd5b4aa9-da9f-4553-8ba8-a6b4190f4128 button.colab-df-convert');\n",
              "      buttonEl.style.display =\n",
              "        google.colab.kernel.accessAllowed ? 'block' : 'none';\n",
              "\n",
              "      async function convertToInteractive(key) {\n",
              "        const element = document.querySelector('#df-fd5b4aa9-da9f-4553-8ba8-a6b4190f4128');\n",
              "        const dataTable =\n",
              "          await google.colab.kernel.invokeFunction('convertToInteractive',\n",
              "                                                    [key], {});\n",
              "        if (!dataTable) return;\n",
              "\n",
              "        const docLinkHtml = 'Like what you see? Visit the ' +\n",
              "          '<a target=\"_blank\" href=https://colab.research.google.com/notebooks/data_table.ipynb>data table notebook</a>'\n",
              "          + ' to learn more about interactive tables.';\n",
              "        element.innerHTML = '';\n",
              "        dataTable['output_type'] = 'display_data';\n",
              "        await google.colab.output.renderOutput(dataTable, element);\n",
              "        const docLink = document.createElement('div');\n",
              "        docLink.innerHTML = docLinkHtml;\n",
              "        element.appendChild(docLink);\n",
              "      }\n",
              "    </script>\n",
              "  </div>\n",
              "\n",
              "\n",
              "<div id=\"df-ffe47c4f-b6cd-44a9-aa94-4eb2c0a5f063\">\n",
              "  <button class=\"colab-df-quickchart\" onclick=\"quickchart('df-ffe47c4f-b6cd-44a9-aa94-4eb2c0a5f063')\"\n",
              "            title=\"Suggest charts\"\n",
              "            style=\"display:none;\">\n",
              "\n",
              "<svg xmlns=\"http://www.w3.org/2000/svg\" height=\"24px\"viewBox=\"0 0 24 24\"\n",
              "     width=\"24px\">\n",
              "    <g>\n",
              "        <path d=\"M19 3H5c-1.1 0-2 .9-2 2v14c0 1.1.9 2 2 2h14c1.1 0 2-.9 2-2V5c0-1.1-.9-2-2-2zM9 17H7v-7h2v7zm4 0h-2V7h2v10zm4 0h-2v-4h2v4z\"/>\n",
              "    </g>\n",
              "</svg>\n",
              "  </button>\n",
              "\n",
              "<style>\n",
              "  .colab-df-quickchart {\n",
              "      --bg-color: #E8F0FE;\n",
              "      --fill-color: #1967D2;\n",
              "      --hover-bg-color: #E2EBFA;\n",
              "      --hover-fill-color: #174EA6;\n",
              "      --disabled-fill-color: #AAA;\n",
              "      --disabled-bg-color: #DDD;\n",
              "  }\n",
              "\n",
              "  [theme=dark] .colab-df-quickchart {\n",
              "      --bg-color: #3B4455;\n",
              "      --fill-color: #D2E3FC;\n",
              "      --hover-bg-color: #434B5C;\n",
              "      --hover-fill-color: #FFFFFF;\n",
              "      --disabled-bg-color: #3B4455;\n",
              "      --disabled-fill-color: #666;\n",
              "  }\n",
              "\n",
              "  .colab-df-quickchart {\n",
              "    background-color: var(--bg-color);\n",
              "    border: none;\n",
              "    border-radius: 50%;\n",
              "    cursor: pointer;\n",
              "    display: none;\n",
              "    fill: var(--fill-color);\n",
              "    height: 32px;\n",
              "    padding: 0;\n",
              "    width: 32px;\n",
              "  }\n",
              "\n",
              "  .colab-df-quickchart:hover {\n",
              "    background-color: var(--hover-bg-color);\n",
              "    box-shadow: 0 1px 2px rgba(60, 64, 67, 0.3), 0 1px 3px 1px rgba(60, 64, 67, 0.15);\n",
              "    fill: var(--button-hover-fill-color);\n",
              "  }\n",
              "\n",
              "  .colab-df-quickchart-complete:disabled,\n",
              "  .colab-df-quickchart-complete:disabled:hover {\n",
              "    background-color: var(--disabled-bg-color);\n",
              "    fill: var(--disabled-fill-color);\n",
              "    box-shadow: none;\n",
              "  }\n",
              "\n",
              "  .colab-df-spinner {\n",
              "    border: 2px solid var(--fill-color);\n",
              "    border-color: transparent;\n",
              "    border-bottom-color: var(--fill-color);\n",
              "    animation:\n",
              "      spin 1s steps(1) infinite;\n",
              "  }\n",
              "\n",
              "  @keyframes spin {\n",
              "    0% {\n",
              "      border-color: transparent;\n",
              "      border-bottom-color: var(--fill-color);\n",
              "      border-left-color: var(--fill-color);\n",
              "    }\n",
              "    20% {\n",
              "      border-color: transparent;\n",
              "      border-left-color: var(--fill-color);\n",
              "      border-top-color: var(--fill-color);\n",
              "    }\n",
              "    30% {\n",
              "      border-color: transparent;\n",
              "      border-left-color: var(--fill-color);\n",
              "      border-top-color: var(--fill-color);\n",
              "      border-right-color: var(--fill-color);\n",
              "    }\n",
              "    40% {\n",
              "      border-color: transparent;\n",
              "      border-right-color: var(--fill-color);\n",
              "      border-top-color: var(--fill-color);\n",
              "    }\n",
              "    60% {\n",
              "      border-color: transparent;\n",
              "      border-right-color: var(--fill-color);\n",
              "    }\n",
              "    80% {\n",
              "      border-color: transparent;\n",
              "      border-right-color: var(--fill-color);\n",
              "      border-bottom-color: var(--fill-color);\n",
              "    }\n",
              "    90% {\n",
              "      border-color: transparent;\n",
              "      border-bottom-color: var(--fill-color);\n",
              "    }\n",
              "  }\n",
              "</style>\n",
              "\n",
              "  <script>\n",
              "    async function quickchart(key) {\n",
              "      const quickchartButtonEl =\n",
              "        document.querySelector('#' + key + ' button');\n",
              "      quickchartButtonEl.disabled = true;  // To prevent multiple clicks.\n",
              "      quickchartButtonEl.classList.add('colab-df-spinner');\n",
              "      try {\n",
              "        const charts = await google.colab.kernel.invokeFunction(\n",
              "            'suggestCharts', [key], {});\n",
              "      } catch (error) {\n",
              "        console.error('Error during call to suggestCharts:', error);\n",
              "      }\n",
              "      quickchartButtonEl.classList.remove('colab-df-spinner');\n",
              "      quickchartButtonEl.classList.add('colab-df-quickchart-complete');\n",
              "    }\n",
              "    (() => {\n",
              "      let quickchartButtonEl =\n",
              "        document.querySelector('#df-ffe47c4f-b6cd-44a9-aa94-4eb2c0a5f063 button');\n",
              "      quickchartButtonEl.style.display =\n",
              "        google.colab.kernel.accessAllowed ? 'block' : 'none';\n",
              "    })();\n",
              "  </script>\n",
              "</div>\n",
              "    </div>\n",
              "  </div>\n"
            ],
            "application/vnd.google.colaboratory.intrinsic+json": {
              "type": "dataframe",
              "variable_name": "burn_out",
              "summary": "{\n  \"name\": \"burn_out\",\n  \"rows\": 21626,\n  \"fields\": [\n    {\n      \"column\": \"Gender\",\n      \"properties\": {\n        \"dtype\": \"category\",\n        \"num_unique_values\": 2,\n        \"samples\": [\n          \"Male\",\n          \"Female\"\n        ],\n        \"semantic_type\": \"\",\n        \"description\": \"\"\n      }\n    },\n    {\n      \"column\": \"Company Type\",\n      \"properties\": {\n        \"dtype\": \"category\",\n        \"num_unique_values\": 2,\n        \"samples\": [\n          \"Product\",\n          \"Service\"\n        ],\n        \"semantic_type\": \"\",\n        \"description\": \"\"\n      }\n    },\n    {\n      \"column\": \"WFH Setup Available\",\n      \"properties\": {\n        \"dtype\": \"category\",\n        \"num_unique_values\": 2,\n        \"samples\": [\n          \"Yes\",\n          \"No\"\n        ],\n        \"semantic_type\": \"\",\n        \"description\": \"\"\n      }\n    },\n    {\n      \"column\": \"Designation\",\n      \"properties\": {\n        \"dtype\": \"number\",\n        \"std\": 1.1354282018749209,\n        \"min\": 0.0,\n        \"max\": 5.0,\n        \"num_unique_values\": 6,\n        \"samples\": [\n          2.0,\n          1.0\n        ],\n        \"semantic_type\": \"\",\n        \"description\": \"\"\n      }\n    },\n    {\n      \"column\": \"Resource Allocation\",\n      \"properties\": {\n        \"dtype\": \"number\",\n        \"std\": 2.0481701009028317,\n        \"min\": 1.0,\n        \"max\": 10.0,\n        \"num_unique_values\": 10,\n        \"samples\": [\n          10.0,\n          2.0\n        ],\n        \"semantic_type\": \"\",\n        \"description\": \"\"\n      }\n    },\n    {\n      \"column\": \"Mental Fatigue Score\",\n      \"properties\": {\n        \"dtype\": \"number\",\n        \"std\": 1.920784271772575,\n        \"min\": 0.0,\n        \"max\": 10.0,\n        \"num_unique_values\": 101,\n        \"samples\": [\n          1.7,\n          4.5\n        ],\n        \"semantic_type\": \"\",\n        \"description\": \"\"\n      }\n    },\n    {\n      \"column\": \"Burn Rate\",\n      \"properties\": {\n        \"dtype\": \"number\",\n        \"std\": 0.19822636950113903,\n        \"min\": 0.0,\n        \"max\": 1.0,\n        \"num_unique_values\": 101,\n        \"samples\": [\n          0.64,\n          0.0\n        ],\n        \"semantic_type\": \"\",\n        \"description\": \"\"\n      }\n    },\n    {\n      \"column\": \"Burned out\",\n      \"properties\": {\n        \"dtype\": \"boolean\",\n        \"num_unique_values\": 2,\n        \"samples\": [\n          true,\n          false\n        ],\n        \"semantic_type\": \"\",\n        \"description\": \"\"\n      }\n    },\n    {\n      \"column\": \"Work time\",\n      \"properties\": {\n        \"dtype\": \"number\",\n        \"std\": 105,\n        \"min\": 4158,\n        \"max\": 4523,\n        \"num_unique_values\": 366,\n        \"samples\": [\n          4165,\n          4355\n        ],\n        \"semantic_type\": \"\",\n        \"description\": \"\"\n      }\n    }\n  ]\n}"
            }
          },
          "metadata": {},
          "execution_count": 143
        }
      ]
    },
    {
      "cell_type": "code",
      "source": [
        "hist('Work time')"
      ],
      "metadata": {
        "colab": {
          "base_uri": "https://localhost:8080/",
          "height": 472
        },
        "id": "Bxy-0hPayaGf",
        "outputId": "ee3b5108-ac1d-4ade-e8a8-fca662957f68"
      },
      "execution_count": 144,
      "outputs": [
        {
          "output_type": "display_data",
          "data": {
            "text/plain": [
              "<Figure size 640x480 with 1 Axes>"
            ],
            "image/png": "[encoded data removed]"
          },
          "metadata": {}
        }
      ]
    },
    {
      "cell_type": "markdown",
      "source": [
        "Все сотрудники пришли примерно в одно и то же время в компанию. Возможно, этот параметр не будет играть роли при обучении."
      ],
      "metadata": {
        "id": "syNbscVv-W2u"
      }
    },
    {
      "cell_type": "code",
      "source": [
        "bar('Gender')"
      ],
      "metadata": {
        "colab": {
          "base_uri": "https://localhost:8080/",
          "height": 472
        },
        "id": "ALuwxEuY-ck3",
        "outputId": "7b83d05c-633f-4c70-a13a-2414008b4c78"
      },
      "execution_count": 145,
      "outputs": [
        {
          "output_type": "display_data",
          "data": {
            "text/plain": [
              "<Figure size 640x480 with 1 Axes>"
            ],
            "image/png": "[encoded data removed]"
          },
          "metadata": {}
        }
      ]
    },
    {
      "cell_type": "code",
      "source": [
        "bar('Company Type')"
      ],
      "metadata": {
        "colab": {
          "base_uri": "https://localhost:8080/",
          "height": 472
        },
        "id": "EjzVhgOh_Brx",
        "outputId": "ff8bd891-0b66-4111-bd1e-1ccdea6764a2"
      },
      "execution_count": 146,
      "outputs": [
        {
          "output_type": "display_data",
          "data": {
            "text/plain": [
              "<Figure size 640x480 with 1 Axes>"
            ],
            "image/png": "[encoded data removed]"
          },
          "metadata": {}
        }
      ]
    },
    {
      "cell_type": "code",
      "source": [
        "bar('WFH Setup Available')"
      ],
      "metadata": {
        "colab": {
          "base_uri": "https://localhost:8080/",
          "height": 472
        },
        "id": "FwcoeN-g_GWB",
        "outputId": "635478e8-45b1-49f4-a782-e6331b47c102"
      },
      "execution_count": 147,
      "outputs": [
        {
          "output_type": "display_data",
          "data": {
            "text/plain": [
              "<Figure size 640x480 with 1 Axes>"
            ],
            "image/png": "[encoded data removed]"
          },
          "metadata": {}
        }
      ]
    },
    {
      "cell_type": "code",
      "source": [
        "hist('Designation')"
      ],
      "metadata": {
        "colab": {
          "base_uri": "https://localhost:8080/",
          "height": 472
        },
        "id": "fUQVP4cD_PJA",
        "outputId": "99c6256f-9c10-4a5c-f123-a075d2d6403e"
      },
      "execution_count": 148,
      "outputs": [
        {
          "output_type": "display_data",
          "data": {
            "text/plain": [
              "<Figure size 640x480 with 1 Axes>"
            ],
            "image/png": "[encoded data removed]"
          },
          "metadata": {}
        }
      ]
    },
    {
      "cell_type": "code",
      "source": [
        "hist('Resource Allocation')"
      ],
      "metadata": {
        "colab": {
          "base_uri": "https://localhost:8080/",
          "height": 472
        },
        "id": "MoWc-Cbf_bqo",
        "outputId": "995704df-a2f0-40df-c833-96df9cc4be05"
      },
      "execution_count": 149,
      "outputs": [
        {
          "output_type": "display_data",
          "data": {
            "text/plain": [
              "<Figure size 640x480 with 1 Axes>"
            ],
            "image/png": "[encoded data removed]"
          },
          "metadata": {}
        }
      ]
    },
    {
      "cell_type": "code",
      "source": [
        "hist('Mental Fatigue Score')"
      ],
      "metadata": {
        "colab": {
          "base_uri": "https://localhost:8080/",
          "height": 472
        },
        "id": "XzK_DYr2_i_6",
        "outputId": "48052077-a6f7-4cd9-f0a4-26fba196c1e3"
      },
      "execution_count": 150,
      "outputs": [
        {
          "output_type": "display_data",
          "data": {
            "text/plain": [
              "<Figure size 640x480 with 1 Axes>"
            ],
            "image/png": "[encoded data removed]"
          },
          "metadata": {}
        }
      ]
    },
    {
      "cell_type": "markdown",
      "source": [
        "# ДЗ 2"
      ],
      "metadata": {
        "id": "2YyoF8u9A4vG"
      }
    },
    {
      "cell_type": "markdown",
      "source": [
        "## Преобразования данных\n",
        "\n",
        "Посмотрим еще раз на данные"
      ],
      "metadata": {
        "id": "IiZCF1CDB599"
      }
    },
    {
      "cell_type": "code",
      "source": [
        "burn_out.dtypes"
      ],
      "metadata": {
        "colab": {
          "base_uri": "https://localhost:8080/"
        },
        "id": "dmJzAJDtCAHT",
        "outputId": "6becdcdb-abb7-49a5-9af2-48800ee0cf6e"
      },
      "execution_count": 151,
      "outputs": [
        {
          "output_type": "execute_result",
          "data": {
            "text/plain": [
              "Gender                   object\n",
              "Company Type             object\n",
              "WFH Setup Available      object\n",
              "Designation             float64\n",
              "Resource Allocation     float64\n",
              "Mental Fatigue Score    float64\n",
              "Burn Rate               float64\n",
              "Burned out                 bool\n",
              "Work time                 int64\n",
              "dtype: object"
            ]
          },
          "metadata": {},
          "execution_count": 151
        }
      ]
    },
    {
      "cell_type": "markdown",
      "source": [
        "Здесь\n",
        "- Burn Rate нам больше не понадобится,\n",
        "- WFH Setup Available можно перевести в True/False,\n",
        "- Company Type можно перевести в числовые значения 0 (Product) и 1 (Service)\n",
        "- Gender можно перевести в числовые значения 0 (Female), 1 (Male)\n",
        "- Возможно, параметр Work time не будет влиять на модель, но его оставим, поскольку не уверены в этом"
      ],
      "metadata": {
        "id": "yeO7_rezCu4J"
      }
    },
    {
      "cell_type": "code",
      "source": [
        "def wfh_cat(text):\n",
        "  if text == 'Yes':\n",
        "    return True\n",
        "  else:\n",
        "    return False\n",
        "burn_out['WFH Setup Available_cat'] = burn_out['WFH Setup Available'].map(wfh_cat)\n",
        "burn_out['Gender'] = burn_out['Gender'].astype('category')\n",
        "burn_out['Gender_cat'] = burn_out['Gender'].cat.codes\n",
        "burn_out['Company Type'] = burn_out['Company Type'].astype('category')\n",
        "burn_out['Company Type_cat'] = burn_out['Company Type'].cat.codes\n",
        "burn_out.head()"
      ],
      "metadata": {
        "colab": {
          "base_uri": "https://localhost:8080/",
          "height": 261
        },
        "id": "pDI6ljFDCuNn",
        "outputId": "9515f64f-1d74-4da5-c770-a6e3ac206762"
      },
      "execution_count": 152,
      "outputs": [
        {
          "output_type": "execute_result",
          "data": {
            "text/plain": [
              "   Gender Company Type WFH Setup Available  Designation  Resource Allocation  \\\n",
              "0  Female      Service                  No          2.0                  3.0   \n",
              "1    Male      Service                 Yes          1.0                  2.0   \n",
              "2  Female      Product                 Yes          2.0                  NaN   \n",
              "3    Male      Service                 Yes          1.0                  1.0   \n",
              "4  Female      Service                  No          3.0                  7.0   \n",
              "\n",
              "   Mental Fatigue Score  Burn Rate  Burned out  Work time  \\\n",
              "0                   3.8       0.16       False       4250   \n",
              "1                   5.0       0.36       False       4189   \n",
              "2                   5.8       0.49       False       4454   \n",
              "3                   2.6       0.20       False       4216   \n",
              "4                   6.9       0.52       False       4318   \n",
              "\n",
              "   WFH Setup Available_cat  Gender_cat  Company Type_cat  \n",
              "0                    False           0                 1  \n",
              "1                     True           1                 1  \n",
              "2                     True           0                 0  \n",
              "3                     True           1                 1  \n",
              "4                    False           0                 1  "
            ],
            "text/html": [
              "\n",
              "  <div id=\"df-c42f5556-7dcd-477e-ad70-7179f880d018\" class=\"colab-df-container\">\n",
              "    <div>\n",
              "<style scoped>\n",
              "    .dataframe tbody tr th:only-of-type {\n",
              "        vertical-align: middle;\n",
              "    }\n",
              "\n",
              "    .dataframe tbody tr th {\n",
              "        vertical-align: top;\n",
              "    }\n",
              "\n",
              "    .dataframe thead th {\n",
              "        text-align: right;\n",
              "    }\n",
              "</style>\n",
              "<table border=\"1\" class=\"dataframe\">\n",
              "  <thead>\n",
              "    <tr style=\"text-align: right;\">\n",
              "      <th></th>\n",
              "      <th>Gender</th>\n",
              "      <th>Company Type</th>\n",
              "      <th>WFH Setup Available</th>\n",
              "      <th>Designation</th>\n",
              "      <th>Resource Allocation</th>\n",
              "      <th>Mental Fatigue Score</th>\n",
              "      <th>Burn Rate</th>\n",
              "      <th>Burned out</th>\n",
              "      <th>Work time</th>\n",
              "      <th>WFH Setup Available_cat</th>\n",
              "      <th>Gender_cat</th>\n",
              "      <th>Company Type_cat</th>\n",
              "    </tr>\n",
              "  </thead>\n",
              "  <tbody>\n",
              "    <tr>\n",
              "      <th>0</th>\n",
              "      <td>Female</td>\n",
              "      <td>Service</td>\n",
              "      <td>No</td>\n",
              "      <td>2.0</td>\n",
              "      <td>3.0</td>\n",
              "      <td>3.8</td>\n",
              "      <td>0.16</td>\n",
              "      <td>False</td>\n",
              "      <td>4250</td>\n",
              "      <td>False</td>\n",
              "      <td>0</td>\n",
              "      <td>1</td>\n",
              "    </tr>\n",
              "    <tr>\n",
              "      <th>1</th>\n",
              "      <td>Male</td>\n",
              "      <td>Service</td>\n",
              "      <td>Yes</td>\n",
              "      <td>1.0</td>\n",
              "      <td>2.0</td>\n",
              "      <td>5.0</td>\n",
              "      <td>0.36</td>\n",
              "      <td>False</td>\n",
              "      <td>4189</td>\n",
              "      <td>True</td>\n",
              "      <td>1</td>\n",
              "      <td>1</td>\n",
              "    </tr>\n",
              "    <tr>\n",
              "      <th>2</th>\n",
              "      <td>Female</td>\n",
              "      <td>Product</td>\n",
              "      <td>Yes</td>\n",
              "      <td>2.0</td>\n",
              "      <td>NaN</td>\n",
              "      <td>5.8</td>\n",
              "      <td>0.49</td>\n",
              "      <td>False</td>\n",
              "      <td>4454</td>\n",
              "      <td>True</td>\n",
              "      <td>0</td>\n",
              "      <td>0</td>\n",
              "    </tr>\n",
              "    <tr>\n",
              "      <th>3</th>\n",
              "      <td>Male</td>\n",
              "      <td>Service</td>\n",
              "      <td>Yes</td>\n",
              "      <td>1.0</td>\n",
              "      <td>1.0</td>\n",
              "      <td>2.6</td>\n",
              "      <td>0.20</td>\n",
              "      <td>False</td>\n",
              "      <td>4216</td>\n",
              "      <td>True</td>\n",
              "      <td>1</td>\n",
              "      <td>1</td>\n",
              "    </tr>\n",
              "    <tr>\n",
              "      <th>4</th>\n",
              "      <td>Female</td>\n",
              "      <td>Service</td>\n",
              "      <td>No</td>\n",
              "      <td>3.0</td>\n",
              "      <td>7.0</td>\n",
              "      <td>6.9</td>\n",
              "      <td>0.52</td>\n",
              "      <td>False</td>\n",
              "      <td>4318</td>\n",
              "      <td>False</td>\n",
              "      <td>0</td>\n",
              "      <td>1</td>\n",
              "    </tr>\n",
              "  </tbody>\n",
              "</table>\n",
              "</div>\n",
              "    <div class=\"colab-df-buttons\">\n",
              "\n",
              "  <div class=\"colab-df-container\">\n",
              "    <button class=\"colab-df-convert\" onclick=\"convertToInteractive('df-c42f5556-7dcd-477e-ad70-7179f880d018')\"\n",
              "            title=\"Convert this dataframe to an interactive table.\"\n",
              "            style=\"display:none;\">\n",
              "\n",
              "  <svg xmlns=\"http://www.w3.org/2000/svg\" height=\"24px\" viewBox=\"0 -960 960 960\">\n",
              "    <path d=\"M120-120v-720h720v720H120Zm60-500h600v-160H180v160Zm220 220h160v-160H400v160Zm0 220h160v-160H400v160ZM180-400h160v-160H180v160Zm440 0h160v-160H620v160ZM180-180h160v-160H180v160Zm440 0h160v-160H620v160Z\"/>\n",
              "  </svg>\n",
              "    </button>\n",
              "\n",
              "  <style>\n",
              "    .colab-df-container {\n",
              "      display:flex;\n",
              "      gap: 12px;\n",
              "    }\n",
              "\n",
              "    .colab-df-convert {\n",
              "      background-color: #E8F0FE;\n",
              "      border: none;\n",
              "      border-radius: 50%;\n",
              "      cursor: pointer;\n",
              "      display: none;\n",
              "      fill: #1967D2;\n",
              "      height: 32px;\n",
              "      padding: 0 0 0 0;\n",
              "      width: 32px;\n",
              "    }\n",
              "\n",
              "    .colab-df-convert:hover {\n",
              "      background-color: #E2EBFA;\n",
              "      box-shadow: 0px 1px 2px rgba(60, 64, 67, 0.3), 0px 1px 3px 1px rgba(60, 64, 67, 0.15);\n",
              "      fill: #174EA6;\n",
              "    }\n",
              "\n",
              "    .colab-df-buttons div {\n",
              "      margin-bottom: 4px;\n",
              "    }\n",
              "\n",
              "    [theme=dark] .colab-df-convert {\n",
              "      background-color: #3B4455;\n",
              "      fill: #D2E3FC;\n",
              "    }\n",
              "\n",
              "    [theme=dark] .colab-df-convert:hover {\n",
              "      background-color: #434B5C;\n",
              "      box-shadow: 0px 1px 3px 1px rgba(0, 0, 0, 0.15);\n",
              "      filter: drop-shadow(0px 1px 2px rgba(0, 0, 0, 0.3));\n",
              "      fill: #FFFFFF;\n",
              "    }\n",
              "  </style>\n",
              "\n",
              "    <script>\n",
              "      const buttonEl =\n",
              "        document.querySelector('#df-c42f5556-7dcd-477e-ad70-7179f880d018 button.colab-df-convert');\n",
              "      buttonEl.style.display =\n",
              "        google.colab.kernel.accessAllowed ? 'block' : 'none';\n",
              "\n",
              "      async function convertToInteractive(key) {\n",
              "        const element = document.querySelector('#df-c42f5556-7dcd-477e-ad70-7179f880d018');\n",
              "        const dataTable =\n",
              "          await google.colab.kernel.invokeFunction('convertToInteractive',\n",
              "                                                    [key], {});\n",
              "        if (!dataTable) return;\n",
              "\n",
              "        const docLinkHtml = 'Like what you see? Visit the ' +\n",
              "          '<a target=\"_blank\" href=https://colab.research.google.com/notebooks/data_table.ipynb>data table notebook</a>'\n",
              "          + ' to learn more about interactive tables.';\n",
              "        element.innerHTML = '';\n",
              "        dataTable['output_type'] = 'display_data';\n",
              "        await google.colab.output.renderOutput(dataTable, element);\n",
              "        const docLink = document.createElement('div');\n",
              "        docLink.innerHTML = docLinkHtml;\n",
              "        element.appendChild(docLink);\n",
              "      }\n",
              "    </script>\n",
              "  </div>\n",
              "\n",
              "\n",
              "<div id=\"df-dfd5134e-3d96-497c-b3bd-73a7ac0b20f9\">\n",
              "  <button class=\"colab-df-quickchart\" onclick=\"quickchart('df-dfd5134e-3d96-497c-b3bd-73a7ac0b20f9')\"\n",
              "            title=\"Suggest charts\"\n",
              "            style=\"display:none;\">\n",
              "\n",
              "<svg xmlns=\"http://www.w3.org/2000/svg\" height=\"24px\"viewBox=\"0 0 24 24\"\n",
              "     width=\"24px\">\n",
              "    <g>\n",
              "        <path d=\"M19 3H5c-1.1 0-2 .9-2 2v14c0 1.1.9 2 2 2h14c1.1 0 2-.9 2-2V5c0-1.1-.9-2-2-2zM9 17H7v-7h2v7zm4 0h-2V7h2v10zm4 0h-2v-4h2v4z\"/>\n",
              "    </g>\n",
              "</svg>\n",
              "  </button>\n",
              "\n",
              "<style>\n",
              "  .colab-df-quickchart {\n",
              "      --bg-color: #E8F0FE;\n",
              "      --fill-color: #1967D2;\n",
              "      --hover-bg-color: #E2EBFA;\n",
              "      --hover-fill-color: #174EA6;\n",
              "      --disabled-fill-color: #AAA;\n",
              "      --disabled-bg-color: #DDD;\n",
              "  }\n",
              "\n",
              "  [theme=dark] .colab-df-quickchart {\n",
              "      --bg-color: #3B4455;\n",
              "      --fill-color: #D2E3FC;\n",
              "      --hover-bg-color: #434B5C;\n",
              "      --hover-fill-color: #FFFFFF;\n",
              "      --disabled-bg-color: #3B4455;\n",
              "      --disabled-fill-color: #666;\n",
              "  }\n",
              "\n",
              "  .colab-df-quickchart {\n",
              "    background-color: var(--bg-color);\n",
              "    border: none;\n",
              "    border-radius: 50%;\n",
              "    cursor: pointer;\n",
              "    display: none;\n",
              "    fill: var(--fill-color);\n",
              "    height: 32px;\n",
              "    padding: 0;\n",
              "    width: 32px;\n",
              "  }\n",
              "\n",
              "  .colab-df-quickchart:hover {\n",
              "    background-color: var(--hover-bg-color);\n",
              "    box-shadow: 0 1px 2px rgba(60, 64, 67, 0.3), 0 1px 3px 1px rgba(60, 64, 67, 0.15);\n",
              "    fill: var(--button-hover-fill-color);\n",
              "  }\n",
              "\n",
              "  .colab-df-quickchart-complete:disabled,\n",
              "  .colab-df-quickchart-complete:disabled:hover {\n",
              "    background-color: var(--disabled-bg-color);\n",
              "    fill: var(--disabled-fill-color);\n",
              "    box-shadow: none;\n",
              "  }\n",
              "\n",
              "  .colab-df-spinner {\n",
              "    border: 2px solid var(--fill-color);\n",
              "    border-color: transparent;\n",
              "    border-bottom-color: var(--fill-color);\n",
              "    animation:\n",
              "      spin 1s steps(1) infinite;\n",
              "  }\n",
              "\n",
              "  @keyframes spin {\n",
              "    0% {\n",
              "      border-color: transparent;\n",
              "      border-bottom-color: var(--fill-color);\n",
              "      border-left-color: var(--fill-color);\n",
              "    }\n",
              "    20% {\n",
              "      border-color: transparent;\n",
              "      border-left-color: var(--fill-color);\n",
              "      border-top-color: var(--fill-color);\n",
              "    }\n",
              "    30% {\n",
              "      border-color: transparent;\n",
              "      border-left-color: var(--fill-color);\n",
              "      border-top-color: var(--fill-color);\n",
              "      border-right-color: var(--fill-color);\n",
              "    }\n",
              "    40% {\n",
              "      border-color: transparent;\n",
              "      border-right-color: var(--fill-color);\n",
              "      border-top-color: var(--fill-color);\n",
              "    }\n",
              "    60% {\n",
              "      border-color: transparent;\n",
              "      border-right-color: var(--fill-color);\n",
              "    }\n",
              "    80% {\n",
              "      border-color: transparent;\n",
              "      border-right-color: var(--fill-color);\n",
              "      border-bottom-color: var(--fill-color);\n",
              "    }\n",
              "    90% {\n",
              "      border-color: transparent;\n",
              "      border-bottom-color: var(--fill-color);\n",
              "    }\n",
              "  }\n",
              "</style>\n",
              "\n",
              "  <script>\n",
              "    async function quickchart(key) {\n",
              "      const quickchartButtonEl =\n",
              "        document.querySelector('#' + key + ' button');\n",
              "      quickchartButtonEl.disabled = true;  // To prevent multiple clicks.\n",
              "      quickchartButtonEl.classList.add('colab-df-spinner');\n",
              "      try {\n",
              "        const charts = await google.colab.kernel.invokeFunction(\n",
              "            'suggestCharts', [key], {});\n",
              "      } catch (error) {\n",
              "        console.error('Error during call to suggestCharts:', error);\n",
              "      }\n",
              "      quickchartButtonEl.classList.remove('colab-df-spinner');\n",
              "      quickchartButtonEl.classList.add('colab-df-quickchart-complete');\n",
              "    }\n",
              "    (() => {\n",
              "      let quickchartButtonEl =\n",
              "        document.querySelector('#df-dfd5134e-3d96-497c-b3bd-73a7ac0b20f9 button');\n",
              "      quickchartButtonEl.style.display =\n",
              "        google.colab.kernel.accessAllowed ? 'block' : 'none';\n",
              "    })();\n",
              "  </script>\n",
              "</div>\n",
              "    </div>\n",
              "  </div>\n"
            ],
            "application/vnd.google.colaboratory.intrinsic+json": {
              "type": "dataframe",
              "variable_name": "burn_out",
              "summary": "{\n  \"name\": \"burn_out\",\n  \"rows\": 21626,\n  \"fields\": [\n    {\n      \"column\": \"Gender\",\n      \"properties\": {\n        \"dtype\": \"category\",\n        \"num_unique_values\": 2,\n        \"samples\": [\n          \"Male\",\n          \"Female\"\n        ],\n        \"semantic_type\": \"\",\n        \"description\": \"\"\n      }\n    },\n    {\n      \"column\": \"Company Type\",\n      \"properties\": {\n        \"dtype\": \"category\",\n        \"num_unique_values\": 2,\n        \"samples\": [\n          \"Product\",\n          \"Service\"\n        ],\n        \"semantic_type\": \"\",\n        \"description\": \"\"\n      }\n    },\n    {\n      \"column\": \"WFH Setup Available\",\n      \"properties\": {\n        \"dtype\": \"category\",\n        \"num_unique_values\": 2,\n        \"samples\": [\n          \"Yes\",\n          \"No\"\n        ],\n        \"semantic_type\": \"\",\n        \"description\": \"\"\n      }\n    },\n    {\n      \"column\": \"Designation\",\n      \"properties\": {\n        \"dtype\": \"number\",\n        \"std\": 1.1354282018749209,\n        \"min\": 0.0,\n        \"max\": 5.0,\n        \"num_unique_values\": 6,\n        \"samples\": [\n          2.0,\n          1.0\n        ],\n        \"semantic_type\": \"\",\n        \"description\": \"\"\n      }\n    },\n    {\n      \"column\": \"Resource Allocation\",\n      \"properties\": {\n        \"dtype\": \"number\",\n        \"std\": 2.0481701009028317,\n        \"min\": 1.0,\n        \"max\": 10.0,\n        \"num_unique_values\": 10,\n        \"samples\": [\n          10.0,\n          2.0\n        ],\n        \"semantic_type\": \"\",\n        \"description\": \"\"\n      }\n    },\n    {\n      \"column\": \"Mental Fatigue Score\",\n      \"properties\": {\n        \"dtype\": \"number\",\n        \"std\": 1.920784271772575,\n        \"min\": 0.0,\n        \"max\": 10.0,\n        \"num_unique_values\": 101,\n        \"samples\": [\n          1.7,\n          4.5\n        ],\n        \"semantic_type\": \"\",\n        \"description\": \"\"\n      }\n    },\n    {\n      \"column\": \"Burn Rate\",\n      \"properties\": {\n        \"dtype\": \"number\",\n        \"std\": 0.19822636950113903,\n        \"min\": 0.0,\n        \"max\": 1.0,\n        \"num_unique_values\": 101,\n        \"samples\": [\n          0.64,\n          0.0\n        ],\n        \"semantic_type\": \"\",\n        \"description\": \"\"\n      }\n    },\n    {\n      \"column\": \"Burned out\",\n      \"properties\": {\n        \"dtype\": \"boolean\",\n        \"num_unique_values\": 2,\n        \"samples\": [\n          true,\n          false\n        ],\n        \"semantic_type\": \"\",\n        \"description\": \"\"\n      }\n    },\n    {\n      \"column\": \"Work time\",\n      \"properties\": {\n        \"dtype\": \"number\",\n        \"std\": 105,\n        \"min\": 4158,\n        \"max\": 4523,\n        \"num_unique_values\": 366,\n        \"samples\": [\n          4165,\n          4355\n        ],\n        \"semantic_type\": \"\",\n        \"description\": \"\"\n      }\n    },\n    {\n      \"column\": \"WFH Setup Available_cat\",\n      \"properties\": {\n        \"dtype\": \"boolean\",\n        \"num_unique_values\": 2,\n        \"samples\": [\n          true,\n          false\n        ],\n        \"semantic_type\": \"\",\n        \"description\": \"\"\n      }\n    },\n    {\n      \"column\": \"Gender_cat\",\n      \"properties\": {\n        \"dtype\": \"int8\",\n        \"num_unique_values\": 2,\n        \"samples\": [\n          1,\n          0\n        ],\n        \"semantic_type\": \"\",\n        \"description\": \"\"\n      }\n    },\n    {\n      \"column\": \"Company Type_cat\",\n      \"properties\": {\n        \"dtype\": \"int8\",\n        \"num_unique_values\": 2,\n        \"samples\": [\n          0,\n          1\n        ],\n        \"semantic_type\": \"\",\n        \"description\": \"\"\n      }\n    }\n  ]\n}"
            }
          },
          "metadata": {},
          "execution_count": 152
        }
      ]
    },
    {
      "cell_type": "markdown",
      "source": [
        "Дропнем ненужные колонки"
      ],
      "metadata": {
        "id": "yTYj8Wb1FRby"
      }
    },
    {
      "cell_type": "code",
      "source": [
        "burn_out = burn_out.drop(columns=['Company Type', 'WFH Setup Available', 'Gender', 'Burn Rate'])\n",
        "burn_out.head()"
      ],
      "metadata": {
        "colab": {
          "base_uri": "https://localhost:8080/",
          "height": 241
        },
        "id": "eVuLPYCLFUEh",
        "outputId": "23207cad-1c6d-4eac-99d8-105c80e5b568"
      },
      "execution_count": 153,
      "outputs": [
        {
          "output_type": "execute_result",
          "data": {
            "text/plain": [
              "   Designation  Resource Allocation  Mental Fatigue Score  Burned out  \\\n",
              "0          2.0                  3.0                   3.8       False   \n",
              "1          1.0                  2.0                   5.0       False   \n",
              "2          2.0                  NaN                   5.8       False   \n",
              "3          1.0                  1.0                   2.6       False   \n",
              "4          3.0                  7.0                   6.9       False   \n",
              "\n",
              "   Work time  WFH Setup Available_cat  Gender_cat  Company Type_cat  \n",
              "0       4250                    False           0                 1  \n",
              "1       4189                     True           1                 1  \n",
              "2       4454                     True           0                 0  \n",
              "3       4216                     True           1                 1  \n",
              "4       4318                    False           0                 1  "
            ],
            "text/html": [
              "\n",
              "  <div id=\"df-418b91f3-375f-4595-b41f-514df4ebd8e8\" class=\"colab-df-container\">\n",
              "    <div>\n",
              "<style scoped>\n",
              "    .dataframe tbody tr th:only-of-type {\n",
              "        vertical-align: middle;\n",
              "    }\n",
              "\n",
              "    .dataframe tbody tr th {\n",
              "        vertical-align: top;\n",
              "    }\n",
              "\n",
              "    .dataframe thead th {\n",
              "        text-align: right;\n",
              "    }\n",
              "</style>\n",
              "<table border=\"1\" class=\"dataframe\">\n",
              "  <thead>\n",
              "    <tr style=\"text-align: right;\">\n",
              "      <th></th>\n",
              "      <th>Designation</th>\n",
              "      <th>Resource Allocation</th>\n",
              "      <th>Mental Fatigue Score</th>\n",
              "      <th>Burned out</th>\n",
              "      <th>Work time</th>\n",
              "      <th>WFH Setup Available_cat</th>\n",
              "      <th>Gender_cat</th>\n",
              "      <th>Company Type_cat</th>\n",
              "    </tr>\n",
              "  </thead>\n",
              "  <tbody>\n",
              "    <tr>\n",
              "      <th>0</th>\n",
              "      <td>2.0</td>\n",
              "      <td>3.0</td>\n",
              "      <td>3.8</td>\n",
              "      <td>False</td>\n",
              "      <td>4250</td>\n",
              "      <td>False</td>\n",
              "      <td>0</td>\n",
              "      <td>1</td>\n",
              "    </tr>\n",
              "    <tr>\n",
              "      <th>1</th>\n",
              "      <td>1.0</td>\n",
              "      <td>2.0</td>\n",
              "      <td>5.0</td>\n",
              "      <td>False</td>\n",
              "      <td>4189</td>\n",
              "      <td>True</td>\n",
              "      <td>1</td>\n",
              "      <td>1</td>\n",
              "    </tr>\n",
              "    <tr>\n",
              "      <th>2</th>\n",
              "      <td>2.0</td>\n",
              "      <td>NaN</td>\n",
              "      <td>5.8</td>\n",
              "      <td>False</td>\n",
              "      <td>4454</td>\n",
              "      <td>True</td>\n",
              "      <td>0</td>\n",
              "      <td>0</td>\n",
              "    </tr>\n",
              "    <tr>\n",
              "      <th>3</th>\n",
              "      <td>1.0</td>\n",
              "      <td>1.0</td>\n",
              "      <td>2.6</td>\n",
              "      <td>False</td>\n",
              "      <td>4216</td>\n",
              "      <td>True</td>\n",
              "      <td>1</td>\n",
              "      <td>1</td>\n",
              "    </tr>\n",
              "    <tr>\n",
              "      <th>4</th>\n",
              "      <td>3.0</td>\n",
              "      <td>7.0</td>\n",
              "      <td>6.9</td>\n",
              "      <td>False</td>\n",
              "      <td>4318</td>\n",
              "      <td>False</td>\n",
              "      <td>0</td>\n",
              "      <td>1</td>\n",
              "    </tr>\n",
              "  </tbody>\n",
              "</table>\n",
              "</div>\n",
              "    <div class=\"colab-df-buttons\">\n",
              "\n",
              "  <div class=\"colab-df-container\">\n",
              "    <button class=\"colab-df-convert\" onclick=\"convertToInteractive('df-418b91f3-375f-4595-b41f-514df4ebd8e8')\"\n",
              "            title=\"Convert this dataframe to an interactive table.\"\n",
              "            style=\"display:none;\">\n",
              "\n",
              "  <svg xmlns=\"http://www.w3.org/2000/svg\" height=\"24px\" viewBox=\"0 -960 960 960\">\n",
              "    <path d=\"M120-120v-720h720v720H120Zm60-500h600v-160H180v160Zm220 220h160v-160H400v160Zm0 220h160v-160H400v160ZM180-400h160v-160H180v160Zm440 0h160v-160H620v160ZM180-180h160v-160H180v160Zm440 0h160v-160H620v160Z\"/>\n",
              "  </svg>\n",
              "    </button>\n",
              "\n",
              "  <style>\n",
              "    .colab-df-container {\n",
              "      display:flex;\n",
              "      gap: 12px;\n",
              "    }\n",
              "\n",
              "    .colab-df-convert {\n",
              "      background-color: #E8F0FE;\n",
              "      border: none;\n",
              "      border-radius: 50%;\n",
              "      cursor: pointer;\n",
              "      display: none;\n",
              "      fill: #1967D2;\n",
              "      height: 32px;\n",
              "      padding: 0 0 0 0;\n",
              "      width: 32px;\n",
              "    }\n",
              "\n",
              "    .colab-df-convert:hover {\n",
              "      background-color: #E2EBFA;\n",
              "      box-shadow: 0px 1px 2px rgba(60, 64, 67, 0.3), 0px 1px 3px 1px rgba(60, 64, 67, 0.15);\n",
              "      fill: #174EA6;\n",
              "    }\n",
              "\n",
              "    .colab-df-buttons div {\n",
              "      margin-bottom: 4px;\n",
              "    }\n",
              "\n",
              "    [theme=dark] .colab-df-convert {\n",
              "      background-color: #3B4455;\n",
              "      fill: #D2E3FC;\n",
              "    }\n",
              "\n",
              "    [theme=dark] .colab-df-convert:hover {\n",
              "      background-color: #434B5C;\n",
              "      box-shadow: 0px 1px 3px 1px rgba(0, 0, 0, 0.15);\n",
              "      filter: drop-shadow(0px 1px 2px rgba(0, 0, 0, 0.3));\n",
              "      fill: #FFFFFF;\n",
              "    }\n",
              "  </style>\n",
              "\n",
              "    <script>\n",
              "      const buttonEl =\n",
              "        document.querySelector('#df-418b91f3-375f-4595-b41f-514df4ebd8e8 button.colab-df-convert');\n",
              "      buttonEl.style.display =\n",
              "        google.colab.kernel.accessAllowed ? 'block' : 'none';\n",
              "\n",
              "      async function convertToInteractive(key) {\n",
              "        const element = document.querySelector('#df-418b91f3-375f-4595-b41f-514df4ebd8e8');\n",
              "        const dataTable =\n",
              "          await google.colab.kernel.invokeFunction('convertToInteractive',\n",
              "                                                    [key], {});\n",
              "        if (!dataTable) return;\n",
              "\n",
              "        const docLinkHtml = 'Like what you see? Visit the ' +\n",
              "          '<a target=\"_blank\" href=https://colab.research.google.com/notebooks/data_table.ipynb>data table notebook</a>'\n",
              "          + ' to learn more about interactive tables.';\n",
              "        element.innerHTML = '';\n",
              "        dataTable['output_type'] = 'display_data';\n",
              "        await google.colab.output.renderOutput(dataTable, element);\n",
              "        const docLink = document.createElement('div');\n",
              "        docLink.innerHTML = docLinkHtml;\n",
              "        element.appendChild(docLink);\n",
              "      }\n",
              "    </script>\n",
              "  </div>\n",
              "\n",
              "\n",
              "<div id=\"df-6f6e1601-b29c-4110-b26f-d0efea44ee2d\">\n",
              "  <button class=\"colab-df-quickchart\" onclick=\"quickchart('df-6f6e1601-b29c-4110-b26f-d0efea44ee2d')\"\n",
              "            title=\"Suggest charts\"\n",
              "            style=\"display:none;\">\n",
              "\n",
              "<svg xmlns=\"http://www.w3.org/2000/svg\" height=\"24px\"viewBox=\"0 0 24 24\"\n",
              "     width=\"24px\">\n",
              "    <g>\n",
              "        <path d=\"M19 3H5c-1.1 0-2 .9-2 2v14c0 1.1.9 2 2 2h14c1.1 0 2-.9 2-2V5c0-1.1-.9-2-2-2zM9 17H7v-7h2v7zm4 0h-2V7h2v10zm4 0h-2v-4h2v4z\"/>\n",
              "    </g>\n",
              "</svg>\n",
              "  </button>\n",
              "\n",
              "<style>\n",
              "  .colab-df-quickchart {\n",
              "      --bg-color: #E8F0FE;\n",
              "      --fill-color: #1967D2;\n",
              "      --hover-bg-color: #E2EBFA;\n",
              "      --hover-fill-color: #174EA6;\n",
              "      --disabled-fill-color: #AAA;\n",
              "      --disabled-bg-color: #DDD;\n",
              "  }\n",
              "\n",
              "  [theme=dark] .colab-df-quickchart {\n",
              "      --bg-color: #3B4455;\n",
              "      --fill-color: #D2E3FC;\n",
              "      --hover-bg-color: #434B5C;\n",
              "      --hover-fill-color: #FFFFFF;\n",
              "      --disabled-bg-color: #3B4455;\n",
              "      --disabled-fill-color: #666;\n",
              "  }\n",
              "\n",
              "  .colab-df-quickchart {\n",
              "    background-color: var(--bg-color);\n",
              "    border: none;\n",
              "    border-radius: 50%;\n",
              "    cursor: pointer;\n",
              "    display: none;\n",
              "    fill: var(--fill-color);\n",
              "    height: 32px;\n",
              "    padding: 0;\n",
              "    width: 32px;\n",
              "  }\n",
              "\n",
              "  .colab-df-quickchart:hover {\n",
              "    background-color: var(--hover-bg-color);\n",
              "    box-shadow: 0 1px 2px rgba(60, 64, 67, 0.3), 0 1px 3px 1px rgba(60, 64, 67, 0.15);\n",
              "    fill: var(--button-hover-fill-color);\n",
              "  }\n",
              "\n",
              "  .colab-df-quickchart-complete:disabled,\n",
              "  .colab-df-quickchart-complete:disabled:hover {\n",
              "    background-color: var(--disabled-bg-color);\n",
              "    fill: var(--disabled-fill-color);\n",
              "    box-shadow: none;\n",
              "  }\n",
              "\n",
              "  .colab-df-spinner {\n",
              "    border: 2px solid var(--fill-color);\n",
              "    border-color: transparent;\n",
              "    border-bottom-color: var(--fill-color);\n",
              "    animation:\n",
              "      spin 1s steps(1) infinite;\n",
              "  }\n",
              "\n",
              "  @keyframes spin {\n",
              "    0% {\n",
              "      border-color: transparent;\n",
              "      border-bottom-color: var(--fill-color);\n",
              "      border-left-color: var(--fill-color);\n",
              "    }\n",
              "    20% {\n",
              "      border-color: transparent;\n",
              "      border-left-color: var(--fill-color);\n",
              "      border-top-color: var(--fill-color);\n",
              "    }\n",
              "    30% {\n",
              "      border-color: transparent;\n",
              "      border-left-color: var(--fill-color);\n",
              "      border-top-color: var(--fill-color);\n",
              "      border-right-color: var(--fill-color);\n",
              "    }\n",
              "    40% {\n",
              "      border-color: transparent;\n",
              "      border-right-color: var(--fill-color);\n",
              "      border-top-color: var(--fill-color);\n",
              "    }\n",
              "    60% {\n",
              "      border-color: transparent;\n",
              "      border-right-color: var(--fill-color);\n",
              "    }\n",
              "    80% {\n",
              "      border-color: transparent;\n",
              "      border-right-color: var(--fill-color);\n",
              "      border-bottom-color: var(--fill-color);\n",
              "    }\n",
              "    90% {\n",
              "      border-color: transparent;\n",
              "      border-bottom-color: var(--fill-color);\n",
              "    }\n",
              "  }\n",
              "</style>\n",
              "\n",
              "  <script>\n",
              "    async function quickchart(key) {\n",
              "      const quickchartButtonEl =\n",
              "        document.querySelector('#' + key + ' button');\n",
              "      quickchartButtonEl.disabled = true;  // To prevent multiple clicks.\n",
              "      quickchartButtonEl.classList.add('colab-df-spinner');\n",
              "      try {\n",
              "        const charts = await google.colab.kernel.invokeFunction(\n",
              "            'suggestCharts', [key], {});\n",
              "      } catch (error) {\n",
              "        console.error('Error during call to suggestCharts:', error);\n",
              "      }\n",
              "      quickchartButtonEl.classList.remove('colab-df-spinner');\n",
              "      quickchartButtonEl.classList.add('colab-df-quickchart-complete');\n",
              "    }\n",
              "    (() => {\n",
              "      let quickchartButtonEl =\n",
              "        document.querySelector('#df-6f6e1601-b29c-4110-b26f-d0efea44ee2d button');\n",
              "      quickchartButtonEl.style.display =\n",
              "        google.colab.kernel.accessAllowed ? 'block' : 'none';\n",
              "    })();\n",
              "  </script>\n",
              "</div>\n",
              "    </div>\n",
              "  </div>\n"
            ],
            "application/vnd.google.colaboratory.intrinsic+json": {
              "type": "dataframe",
              "variable_name": "burn_out",
              "summary": "{\n  \"name\": \"burn_out\",\n  \"rows\": 21626,\n  \"fields\": [\n    {\n      \"column\": \"Designation\",\n      \"properties\": {\n        \"dtype\": \"number\",\n        \"std\": 1.1354282018749209,\n        \"min\": 0.0,\n        \"max\": 5.0,\n        \"num_unique_values\": 6,\n        \"samples\": [\n          2.0,\n          1.0,\n          5.0\n        ],\n        \"semantic_type\": \"\",\n        \"description\": \"\"\n      }\n    },\n    {\n      \"column\": \"Resource Allocation\",\n      \"properties\": {\n        \"dtype\": \"number\",\n        \"std\": 2.0481701009028317,\n        \"min\": 1.0,\n        \"max\": 10.0,\n        \"num_unique_values\": 10,\n        \"samples\": [\n          10.0,\n          2.0,\n          6.0\n        ],\n        \"semantic_type\": \"\",\n        \"description\": \"\"\n      }\n    },\n    {\n      \"column\": \"Mental Fatigue Score\",\n      \"properties\": {\n        \"dtype\": \"number\",\n        \"std\": 1.920784271772575,\n        \"min\": 0.0,\n        \"max\": 10.0,\n        \"num_unique_values\": 101,\n        \"samples\": [\n          1.7,\n          4.5,\n          4.6\n        ],\n        \"semantic_type\": \"\",\n        \"description\": \"\"\n      }\n    },\n    {\n      \"column\": \"Burned out\",\n      \"properties\": {\n        \"dtype\": \"boolean\",\n        \"num_unique_values\": 2,\n        \"samples\": [\n          true,\n          false\n        ],\n        \"semantic_type\": \"\",\n        \"description\": \"\"\n      }\n    },\n    {\n      \"column\": \"Work time\",\n      \"properties\": {\n        \"dtype\": \"number\",\n        \"std\": 105,\n        \"min\": 4158,\n        \"max\": 4523,\n        \"num_unique_values\": 366,\n        \"samples\": [\n          4165,\n          4355\n        ],\n        \"semantic_type\": \"\",\n        \"description\": \"\"\n      }\n    },\n    {\n      \"column\": \"WFH Setup Available_cat\",\n      \"properties\": {\n        \"dtype\": \"boolean\",\n        \"num_unique_values\": 2,\n        \"samples\": [\n          true,\n          false\n        ],\n        \"semantic_type\": \"\",\n        \"description\": \"\"\n      }\n    },\n    {\n      \"column\": \"Gender_cat\",\n      \"properties\": {\n        \"dtype\": \"int8\",\n        \"num_unique_values\": 2,\n        \"samples\": [\n          1,\n          0\n        ],\n        \"semantic_type\": \"\",\n        \"description\": \"\"\n      }\n    },\n    {\n      \"column\": \"Company Type_cat\",\n      \"properties\": {\n        \"dtype\": \"int8\",\n        \"num_unique_values\": 2,\n        \"samples\": [\n          0,\n          1\n        ],\n        \"semantic_type\": \"\",\n        \"description\": \"\"\n      }\n    }\n  ]\n}"
            }
          },
          "metadata": {},
          "execution_count": 153
        }
      ]
    },
    {
      "cell_type": "markdown",
      "source": [],
      "metadata": {
        "id": "ymOhSgy5IY8L"
      }
    },
    {
      "cell_type": "markdown",
      "source": [
        "Теперь нужно заполнить пропуски. Посмотрим, где они вообще есть"
      ],
      "metadata": {
        "id": "yNGEGvMZFTXZ"
      }
    },
    {
      "cell_type": "code",
      "source": [
        "burn_out.isnull().any()"
      ],
      "metadata": {
        "colab": {
          "base_uri": "https://localhost:8080/"
        },
        "id": "g0XIfu-gFnR3",
        "outputId": "72cdfe69-af66-4d12-9484-b1ccc430c76e"
      },
      "execution_count": 154,
      "outputs": [
        {
          "output_type": "execute_result",
          "data": {
            "text/plain": [
              "Designation                False\n",
              "Resource Allocation         True\n",
              "Mental Fatigue Score        True\n",
              "Burned out                 False\n",
              "Work time                  False\n",
              "WFH Setup Available_cat    False\n",
              "Gender_cat                 False\n",
              "Company Type_cat           False\n",
              "dtype: bool"
            ]
          },
          "metadata": {},
          "execution_count": 154
        }
      ]
    },
    {
      "cell_type": "markdown",
      "source": [
        "Это занятость и рейтинг психологической усталости.\n",
        "\n",
        "Их можно заполнить средними значениями без потери качества"
      ],
      "metadata": {
        "id": "kO4IvhksFxF7"
      }
    },
    {
      "cell_type": "code",
      "source": [
        "burn_out['Resource Allocation'].fillna(int(burn_out['Resource Allocation'].mean()),inplace=True)\n",
        "burn_out['Mental Fatigue Score'].fillna(burn_out['Mental Fatigue Score'].mean(),inplace=True)\n",
        "burn_out.isnull().any()"
      ],
      "metadata": {
        "colab": {
          "base_uri": "https://localhost:8080/"
        },
        "id": "VbEYBvuiGMwI",
        "outputId": "60f7cc65-bad0-4c35-8f61-8d2970a90f72"
      },
      "execution_count": 155,
      "outputs": [
        {
          "output_type": "execute_result",
          "data": {
            "text/plain": [
              "Designation                False\n",
              "Resource Allocation        False\n",
              "Mental Fatigue Score       False\n",
              "Burned out                 False\n",
              "Work time                  False\n",
              "WFH Setup Available_cat    False\n",
              "Gender_cat                 False\n",
              "Company Type_cat           False\n",
              "dtype: bool"
            ]
          },
          "metadata": {},
          "execution_count": 155
        }
      ]
    },
    {
      "cell_type": "markdown",
      "source": [
        "Порядок! Разделим данные на тестовую и тренировочную выборки"
      ],
      "metadata": {
        "id": "C0oI6uJYF_ZZ"
      }
    },
    {
      "cell_type": "code",
      "source": [
        "from sklearn. model_selection import train_test_split\n",
        "df_train, df_test = train_test_split(burn_out, test_size=0.2, random_state=42)\n",
        "\n",
        "y_train = df_train['Burned out']\n",
        "X_train = df_train.drop(['Burned out'], axis=1)\n",
        "y_test = df_test['Burned out']\n",
        "X_test = df_test.drop(['Burned out'], axis=1)"
      ],
      "metadata": {
        "id": "WnsvyOsnHsYU"
      },
      "execution_count": 157,
      "outputs": []
    },
    {
      "cell_type": "markdown",
      "source": [
        "## Обучение моделей"
      ],
      "metadata": {
        "id": "Wq4W6gbSG5bo"
      }
    },
    {
      "cell_type": "markdown",
      "source": [
        "### kNN"
      ],
      "metadata": {
        "id": "1j3xtZQBHeMh"
      }
    },
    {
      "cell_type": "code",
      "source": [
        "from sklearn.neighbors import KNeighborsClassifier\n",
        "from sklearn.metrics import roc_auc_score\n",
        "\n",
        "k = 5\n",
        "model = KNeighborsClassifier(n_neighbors=k)\n",
        "model.fit(X_train, y_train)\n",
        "\n",
        "print(roc_auc_score(y_test, model.predict_proba(X_test)[:, 1]))"
      ],
      "metadata": {
        "colab": {
          "base_uri": "https://localhost:8080/"
        },
        "id": "TZ9DF_THHhx4",
        "outputId": "de8ed27b-1860-42e2-e434-e67c4816857a"
      },
      "execution_count": 158,
      "outputs": [
        {
          "output_type": "stream",
          "name": "stdout",
          "text": [
            "0.8950270469293291\n"
          ]
        }
      ]
    },
    {
      "cell_type": "markdown",
      "source": [
        "Очень неплохо! Но вдруг мы можем лучше, поигравшись с параметром k?"
      ],
      "metadata": {
        "id": "7jkbOOzWIrzy"
      }
    },
    {
      "cell_type": "code",
      "source": [
        "def knn(k):\n",
        "  m = KNeighborsClassifier(n_neighbors=k)\n",
        "  m.fit(X_train, y_train)\n",
        "\n",
        "  print(\"k=\" + str(k) + \" \" + str(roc_auc_score(y_test, m.predict_proba(X_test)[:, 1])))\n",
        "\n",
        "for i in range(3, 13):\n",
        "  knn(i)"
      ],
      "metadata": {
        "colab": {
          "base_uri": "https://localhost:8080/"
        },
        "id": "nJGkyRLHI2cg",
        "outputId": "96526444-e9c3-43a3-9410-0b044b3bdad1"
      },
      "execution_count": 163,
      "outputs": [
        {
          "output_type": "stream",
          "name": "stdout",
          "text": [
            "k=3 0.8650588000797289\n",
            "k=4 0.8870057083693222\n",
            "k=5 0.8950270469293291\n",
            "k=6 0.9089664584855935\n",
            "k=7 0.9110538059486635\n",
            "k=8 0.9210808251943392\n",
            "k=9 0.9229328616038801\n",
            "k=10 0.9284882787411689\n",
            "k=11 0.9278674728146524\n",
            "k=12 0.9273650145062342\n"
          ]
        }
      ]
    },
    {
      "cell_type": "markdown",
      "source": [
        "Оптимальное значение k=10, далее модель уже показывает худший результат"
      ],
      "metadata": {
        "id": "xCmQVtLJJOb4"
      }
    },
    {
      "cell_type": "markdown",
      "source": [
        "### Random Forest"
      ],
      "metadata": {
        "id": "5l7UHInwJfFY"
      }
    },
    {
      "cell_type": "code",
      "source": [
        "from sklearn.ensemble import RandomForestClassifier\n",
        "\n",
        "def forest(n):\n",
        "  m = RandomForestClassifier(n_estimators=n, random_state=42)\n",
        "  m.fit(X_train, y_train)\n",
        "\n",
        "  print(\"n=\" + str(n) + \" \" + str(roc_auc_score(y_test, m.predict_proba(X_test)[:, 1])))\n",
        "\n",
        "forest(1000)"
      ],
      "metadata": {
        "colab": {
          "base_uri": "https://localhost:8080/"
        },
        "id": "udFVAFzIJhGf",
        "outputId": "909a0689-ee3a-4155-c5fb-09972b4ad823"
      },
      "execution_count": 166,
      "outputs": [
        {
          "output_type": "stream",
          "name": "stdout",
          "text": [
            "n=1000 0.9831012058999401\n"
          ]
        }
      ]
    },
    {
      "cell_type": "markdown",
      "source": [
        "0.98 - это лучший результат, чем в kNN"
      ],
      "metadata": {
        "id": "TcW8_FdUKIZe"
      }
    },
    {
      "cell_type": "code",
      "source": [
        "forest(500)"
      ],
      "metadata": {
        "colab": {
          "base_uri": "https://localhost:8080/"
        },
        "id": "QT7iSWiSKSJJ",
        "outputId": "42304ca3-62ae-4b7c-9887-abe81012e8f7"
      },
      "execution_count": 167,
      "outputs": [
        {
          "output_type": "stream",
          "name": "stdout",
          "text": [
            "n=500 0.983194638230018\n"
          ]
        }
      ]
    },
    {
      "cell_type": "markdown",
      "source": [
        "В какой-то момент лес переобучился, нужно проверить самую оптимальную глубину, она точно меньше 1000"
      ],
      "metadata": {
        "id": "6zC99C7gKX7T"
      }
    },
    {
      "cell_type": "code",
      "source": [
        "for i in range(300, 700, 100):\n",
        "  forest(i)"
      ],
      "metadata": {
        "colab": {
          "base_uri": "https://localhost:8080/"
        },
        "id": "lfPiSFqSKezU",
        "outputId": "f32b2a51-3475-47d4-b64c-ec4174a07ff1"
      },
      "execution_count": 168,
      "outputs": [
        {
          "output_type": "stream",
          "name": "stdout",
          "text": [
            "n=300 0.9806249031072132\n",
            "n=400 0.9832500055367307\n",
            "n=500 0.983194638230018\n",
            "n=600 0.9831378867406374\n"
          ]
        }
      ]
    },
    {
      "cell_type": "markdown",
      "source": [
        "При n ~400 мы получаем наиболее хороший результат. Очевидно, при увеличении этого параметра дальше, модель переобучается."
      ],
      "metadata": {
        "id": "biQBsCByKtTQ"
      }
    },
    {
      "cell_type": "markdown",
      "source": [
        "### Логистическая регрессия\n"
      ],
      "metadata": {
        "id": "Gs_j7aRxKL-5"
      }
    },
    {
      "cell_type": "code",
      "source": [
        "from sklearn.linear_model import LogisticRegression\n",
        "\n",
        "model = LogisticRegression(solver='saga', max_iter=10000, random_state=42)\n",
        "model.fit(X_train, y_train)\n",
        "\n",
        "print(roc_auc_score(y_test, model.predict_proba(X_test)[:, 1]))"
      ],
      "metadata": {
        "colab": {
          "base_uri": "https://localhost:8080/"
        },
        "id": "fTKrRCN4KPzZ",
        "outputId": "ea90cfff-e714-4580-9422-ac2883d93fdd"
      },
      "execution_count": 169,
      "outputs": [
        {
          "output_type": "stream",
          "name": "stdout",
          "text": [
            "0.9688067514893806\n"
          ]
        }
      ]
    },
    {
      "cell_type": "markdown",
      "source": [
        "Чуть хуже, чем дерево, но всё ещё лучше, чем kNN."
      ],
      "metadata": {
        "id": "7st8I_kALEtA"
      }
    },
    {
      "cell_type": "markdown",
      "source": [
        "### Выводы\n",
        "Мы получили отличный результат обучения. Но тут стоит обратить внимание на то, что некоторые параметры могут слишком сильно влиять на результат обучения. Например, уровень психологической усталости, который отмечают сотрудники."
      ],
      "metadata": {
        "id": "8x2uuGJyLPfG"
      }
    },
    {
      "cell_type": "markdown",
      "source": [
        "# ДЗ 3"
      ],
      "metadata": {
        "id": "KyQzBPPKMFC-"
      }
    },
    {
      "cell_type": "markdown",
      "source": [
        "В качастве сложной модели я выбрал градиентный бустинг на деревьях.\n",
        "- в предыдущей работе деревья уже показали себя отличным образом\n",
        "- композиции решающих деревьев являются эффективным выбором для таких типов данных."
      ],
      "metadata": {
        "id": "-_PD6dGtMtY-"
      }
    },
    {
      "cell_type": "code",
      "source": [
        "!pip install catboost"
      ],
      "metadata": {
        "colab": {
          "base_uri": "https://localhost:8080/"
        },
        "id": "i6r0p6hIPEMT",
        "outputId": "2b180445-4bd1-4a17-ae3c-43aecb127342"
      },
      "execution_count": 172,
      "outputs": [
        {
          "output_type": "stream",
          "name": "stdout",
          "text": [
            "Collecting catboost\n",
            "  Downloading catboost-1.2.5-cp310-cp310-manylinux2014_x86_64.whl (98.2 MB)\n",
            "\u001b[2K     \u001b[90m━━━━━━━━━━━━━━━━━━━━━━━━━━━━━━━━━━━━━━━━\u001b[0m \u001b[32m98.2/98.2 MB\u001b[0m \u001b[31m5.7 MB/s\u001b[0m eta \u001b[36m0:00:00\u001b[0m\n",
            "\u001b[?25hRequirement already satisfied: graphviz in /usr/local/lib/python3.10/dist-packages (from catboost) (0.20.3)\n",
            "Requirement already satisfied: matplotlib in /usr/local/lib/python3.10/dist-packages (from catboost) (3.7.1)\n",
            "Requirement already satisfied: numpy>=1.16.0 in /usr/local/lib/python3.10/dist-packages (from catboost) (1.25.2)\n",
            "Requirement already satisfied: pandas>=0.24 in /usr/local/lib/python3.10/dist-packages (from catboost) (2.0.3)\n",
            "Requirement already satisfied: scipy in /usr/local/lib/python3.10/dist-packages (from catboost) (1.11.4)\n",
            "Requirement already satisfied: plotly in /usr/local/lib/python3.10/dist-packages (from catboost) (5.15.0)\n",
            "Requirement already satisfied: six in /usr/local/lib/python3.10/dist-packages (from catboost) (1.16.0)\n",
            "Requirement already satisfied: python-dateutil>=2.8.2 in /usr/local/lib/python3.10/dist-packages (from pandas>=0.24->catboost) (2.8.2)\n",
            "Requirement already satisfied: pytz>=2020.1 in /usr/local/lib/python3.10/dist-packages (from pandas>=0.24->catboost) (2023.4)\n",
            "Requirement already satisfied: tzdata>=2022.1 in /usr/local/lib/python3.10/dist-packages (from pandas>=0.24->catboost) (2024.1)\n",
            "Requirement already satisfied: contourpy>=1.0.1 in /usr/local/lib/python3.10/dist-packages (from matplotlib->catboost) (1.2.1)\n",
            "Requirement already satisfied: cycler>=0.10 in /usr/local/lib/python3.10/dist-packages (from matplotlib->catboost) (0.12.1)\n",
            "Requirement already satisfied: fonttools>=4.22.0 in /usr/local/lib/python3.10/dist-packages (from matplotlib->catboost) (4.51.0)\n",
            "Requirement already satisfied: kiwisolver>=1.0.1 in /usr/local/lib/python3.10/dist-packages (from matplotlib->catboost) (1.4.5)\n",
            "Requirement already satisfied: packaging>=20.0 in /usr/local/lib/python3.10/dist-packages (from matplotlib->catboost) (24.0)\n",
            "Requirement already satisfied: pillow>=6.2.0 in /usr/local/lib/python3.10/dist-packages (from matplotlib->catboost) (9.4.0)\n",
            "Requirement already satisfied: pyparsing>=2.3.1 in /usr/local/lib/python3.10/dist-packages (from matplotlib->catboost) (3.1.2)\n",
            "Requirement already satisfied: tenacity>=6.2.0 in /usr/local/lib/python3.10/dist-packages (from plotly->catboost) (8.3.0)\n",
            "Installing collected packages: catboost\n",
            "Successfully installed catboost-1.2.5\n"
          ]
        }
      ]
    },
    {
      "cell_type": "code",
      "source": [
        "from catboost import CatBoostClassifier\n",
        "\n",
        "cat_features = ['Gender_cat', 'WFH Setup Available_cat', 'Company Type_cat']\n",
        "\n",
        "model = CatBoostClassifier(iterations=1000, learning_rate=0.1, depth=6, logging_level='Silent', random_seed=42)\n",
        "model.fit(X_train, y_train, cat_features=cat_features)\n",
        "\n",
        "print(\"ROC AUC:\", roc_auc_score(y_test, model.predict_proba(X_test)[:, 1]))"
      ],
      "metadata": {
        "colab": {
          "base_uri": "https://localhost:8080/"
        },
        "id": "pSRwcwHIMIY4",
        "outputId": "290a3e84-f889-462b-c201-0d2b6c4b3f55"
      },
      "execution_count": 173,
      "outputs": [
        {
          "output_type": "stream",
          "name": "stdout",
          "text": [
            "ROC AUC: 0.9851968584590172\n"
          ]
        }
      ]
    },
    {
      "cell_type": "markdown",
      "source": [
        "Вау! Нам удалось достичь почти 99% точности! Подберем гиперпараметры"
      ],
      "metadata": {
        "id": "I-r0U8LqPR0D"
      }
    },
    {
      "cell_type": "code",
      "source": [
        "from sklearn.model_selection import GridSearchCV\n",
        "from sklearn.model_selection import KFold\n",
        "\n",
        "model = CatBoostClassifier(logging_level='Silent', random_seed=42)\n",
        "\n",
        "param_grid = {\n",
        "    'learning_rate': [0.01, 0.1, 0.3],\n",
        "    'depth': [4, 6, 8, 10],\n",
        "    'iterations': [300, 400, 500],\n",
        "}\n",
        "\n",
        "cv = KFold(n_splits=5, shuffle=True, random_state=42)\n",
        "grid_search = GridSearchCV(estimator=model, param_grid=param_grid, cv=cv, scoring='roc_auc')\n",
        "grid_search.fit(X_train, y_train, cat_features=cat_features)\n",
        "\n",
        "print(\"Лучшие гиперпараметры:\", grid_search.best_params_)\n",
        "\n",
        "best_model = grid_search.best_estimator_\n",
        "print(\"ROC AUC:\", roc_auc_score(y_test, best_model.predict_proba(X_test)[:, 1]))"
      ],
      "metadata": {
        "colab": {
          "base_uri": "https://localhost:8080/"
        },
        "id": "oSQA326zPfS8",
        "outputId": "8d760220-0bcb-47a4-f41a-26be177c57ea"
      },
      "execution_count": 175,
      "outputs": [
        {
          "output_type": "stream",
          "name": "stdout",
          "text": [
            "Лучшие гиперпараметры: {'depth': 6, 'iterations': 500, 'learning_rate': 0.01}\n",
            "ROC AUC: 0.9900581079883951\n"
          ]
        }
      ]
    },
    {
      "cell_type": "markdown",
      "source": [
        "Мы пробили заветную точку в 99% точности! Теперь наша модель достаточно точно может предсказать, выгорел сотрудник или нет.\n",
        "\n",
        "Посмотрим теперь на значимость признаков"
      ],
      "metadata": {
        "id": "ozHgOcD_Y8Gn"
      }
    },
    {
      "cell_type": "markdown",
      "source": [
        "## Значимость признаков"
      ],
      "metadata": {
        "id": "CpgZZ4ULZfuK"
      }
    },
    {
      "cell_type": "code",
      "source": [
        "importance_df = pd.DataFrame({'Признак': X_train.columns, 'Значимость': best_model.feature_importances_})\n",
        "importance_df = importance_df.sort_values(by='Значимость', ascending=False)\n",
        "\n",
        "plt.figure(figsize=(10, 6))\n",
        "plt.barh(importance_df['Признак'], importance_df['Значимость'])\n",
        "plt.xlabel('Значимость')\n",
        "plt.ylabel('Признак')\n",
        "plt.title('Значимость признаков')\n",
        "plt.show()"
      ],
      "metadata": {
        "colab": {
          "base_uri": "https://localhost:8080/",
          "height": 487
        },
        "id": "FYEdrZXZZlKU",
        "outputId": "457bed92-dd41-4bc1-a9e9-83cc3bcd8f8a"
      },
      "execution_count": 177,
      "outputs": [
        {
          "output_type": "display_data",
          "data": {
            "text/plain": [
              "<Figure size 1000x600 with 1 Axes>"
            ],
            "image/png": "[encoded data removed]"
          },
          "metadata": {}
        }
      ]
    },
    {
      "cell_type": "markdown",
      "source": [
        "**Из диаграммы выше можно сделать незамысловатые инсайты**:\n",
        "- на нашу модель сильнее всего влияет психологическая усталость сотрудника (оно и логично - если сотрудник чувствует, что выгорает и отмечает психологическую усталость, он скорее всего нуждается в помощи),\n",
        "- должность так же очень влияет на результаты модели - здесь нужно дополнительное исследование, на каких позициях люди выгорают больше. Возможно, проблема комплексная и компании нужно поменять подход к организации работы сотрудников\n",
        "- с огромным отрывом находятся время работы в компании и занятость сотрудников. С занятостью сотрудников так же можно работать\n",
        "- мужчины и женщины очень слабо различаются в риске выгорания, однако вклад этих признаков ненулевой, так что можно провести дополнительные исследования о том, насколько каждый из полов подвержен риску.\n",
        "- аналогично проверить тип компании и возможность работы из дома - возможно, этими средствами можно снизить часть выгораний (например, если гипотеза, что люди из дома чувствуют себя хуже, предложить им работать из офиса и наоборот)"
      ],
      "metadata": {
        "id": "wNssE5FtZ1cT"
      }
    },
    {
      "cell_type": "markdown",
      "source": [
        "## Общие выводы\n",
        "\n",
        "Мы неплохо поработали с данными о сотрудниках нашей компании и совершенно точно знаем о них больше. Мы знаем, с чем можно работать для повышения самочувствия сотрудников\n",
        "- попробовать новый формат работы\n",
        "- давать людям разнообразные задачи (продуктовые и сервисные)\n",
        "- психологам необходимо работать с сотрудниками на высоких должностях\n",
        "- регулярно проводить такие исследования внутри компании для оценки выгорания сотрудников"
      ],
      "metadata": {
        "id": "-QOI96Kpbee2"
      }
    }
  ]
}